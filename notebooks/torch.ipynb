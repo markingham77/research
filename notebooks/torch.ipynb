{
 "cells": [
  {
   "cell_type": "markdown",
   "id": "ff77b55d",
   "metadata": {},
   "source": [
    "TODO: do supervised learning to predict \"success\", where success is measured by further interaction by user.  Could\n",
    "set a threshold and ocnvert to \"sucess\" or \"fail\" and then build a nn to predict whether a query will be successful or not.\n",
    "If not, then could provide recs that correspond to nearest successful cluster"
   ]
  },
  {
   "cell_type": "markdown",
   "id": "83615df5",
   "metadata": {},
   "source": [
    "# Clustering user queries using Fashion CLIP embeddings"
   ]
  },
  {
   "cell_type": "markdown",
   "id": "19499b8f",
   "metadata": {},
   "source": [
    "### Introduction"
   ]
  },
  {
   "cell_type": "markdown",
   "id": "3e7446a9",
   "metadata": {},
   "source": [
    "Start with csv of queries and filters: /Users/mingham/research/workspaces/search_and_recs/cache/series_queries.csv\n",
    "\n",
    "see clustering_queries.ipynb for how these were loaded"
   ]
  },
  {
   "cell_type": "code",
   "execution_count": 1,
   "id": "fb85f476",
   "metadata": {},
   "outputs": [
    {
     "name": "stderr",
     "output_type": "stream",
     "text": [
      "/Users/mingham/research/.venv/lib/python3.11/site-packages/tqdm/auto.py:21: TqdmWarning: IProgress not found. Please update jupyter and ipywidgets. See https://ipywidgets.readthedocs.io/en/stable/user_install.html\n",
      "  from .autonotebook import tqdm as notebook_tqdm\n"
     ]
    }
   ],
   "source": [
    "import torch\n",
    "import math\n",
    "import pydqt\n",
    "# set workspace\n",
    "pydqt.set_workspace('/Users/mingham/research/workspaces/','search_and_recs')\n",
    "\n",
    "# import local embeddings code\n",
    "import sys\n",
    "sys.path.append('../src/')\n",
    "import embeddings\n",
    "import clustering as clustering\n",
    "\n",
    "queries_csv = '/Users/mingham/research/workspaces/search_and_recs/cache/series_queries.csv'\n"
   ]
  },
  {
   "cell_type": "code",
   "execution_count": null,
   "id": "940ce8c4",
   "metadata": {},
   "outputs": [],
   "source": [
    "torch.nn.NLLLoss2"
   ]
  }
 ],
 "metadata": {
  "kernelspec": {
   "display_name": ".venv",
   "language": "python",
   "name": "python3"
  },
  "language_info": {
   "codemirror_mode": {
    "name": "ipython",
    "version": 3
   },
   "file_extension": ".py",
   "mimetype": "text/x-python",
   "name": "python",
   "nbconvert_exporter": "python",
   "pygments_lexer": "ipython3",
   "version": "3.11.4"
  }
 },
 "nbformat": 4,
 "nbformat_minor": 5
}
