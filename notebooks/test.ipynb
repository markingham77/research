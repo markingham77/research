{
 "cells": [
  {
   "cell_type": "code",
   "execution_count": 1,
   "metadata": {},
   "outputs": [],
   "source": [
    "import numpy as np\n",
    "import altair as alt\n",
    "\n",
    "import pydqt\n",
    "import pandas as pd\n",
    "import os\n",
    "import itertools\n",
    "from importlib import reload\n",
    "import numpy as np\n",
    "\n",
    "import yaml\n",
    "\n",
    "# os.sys.path.append('../timeseries') \n",
    "# from tsx import sum_of_nchoosek as snck\n",
    "# import tsx as tsx\n",
    "\n",
    "pydqt.set_workspace(root='/Users/mingham/research/workspaces/',name='growth_model')\n",
    "pydqt.set_schema('core_wip')"
   ]
  },
  {
   "cell_type": "code",
   "execution_count": 2,
   "metadata": {},
   "outputs": [
    {
     "data": {
      "text/plain": [
       "('/Users/mingham/research/workspaces/', 'growth_model')"
      ]
     },
     "execution_count": 2,
     "metadata": {},
     "output_type": "execute_result"
    }
   ],
   "source": [
    "pydqt.get_ws()"
   ]
  },
  {
   "cell_type": "code",
   "execution_count": 6,
   "metadata": {},
   "outputs": [
    {
     "ename": "TypeError",
     "evalue": "load() missing 1 required positional argument: 'Loader'",
     "output_type": "error",
     "traceback": [
      "\u001b[0;31m---------------------------------------------------------------------------\u001b[0m",
      "\u001b[0;31mTypeError\u001b[0m                                 Traceback (most recent call last)",
      "\u001b[1;32m/Users/mingham/research/notebooks/test.ipynb Cell 3\u001b[0m line \u001b[0;36m1\n\u001b[0;32m----> <a href='vscode-notebook-cell:/Users/mingham/research/notebooks/test.ipynb#X30sZmlsZQ%3D%3D?line=0'>1</a>\u001b[0m x\u001b[39m=\u001b[39myaml\u001b[39m.\u001b[39;49mload(\u001b[39m'\u001b[39;49m\u001b[39mtest.yaml\u001b[39;49m\u001b[39m'\u001b[39;49m)\n",
      "\u001b[0;31mTypeError\u001b[0m: load() missing 1 required positional argument: 'Loader'"
     ]
    }
   ],
   "source": [
    "x=yaml.load('test.yaml')"
   ]
  },
  {
   "cell_type": "code",
   "execution_count": 14,
   "metadata": {},
   "outputs": [],
   "source": [
    "def read_multiple_block_of_yaml_data(filename):\n",
    "    with open(f'{filename}.yaml','r') as f:\n",
    "        data = yaml.safe_load_all(f)\n",
    "        # print(list(data)) \n",
    "        return list(data)\n"
   ]
  },
  {
   "cell_type": "code",
   "execution_count": 20,
   "metadata": {},
   "outputs": [
    {
     "name": "stdout",
     "output_type": "stream",
     "text": [
      "['some text', 'and another one']\n"
     ]
    }
   ],
   "source": [
    "import re\n",
    "\n",
    "# Example string\n",
    "example_string = \"This is 'some text' between single quotes 'and another one'.\"\n",
    "\n",
    "# Regex pattern\n",
    "pattern = r\"'(.*?)'\"\n",
    "\n",
    "# Extract values between single quotes\n",
    "matches = re.findall(pattern, example_string)\n",
    "\n",
    "# Print the matches\n",
    "print(matches)"
   ]
  },
  {
   "cell_type": "code",
   "execution_count": 22,
   "metadata": {},
   "outputs": [
    {
     "data": {
      "text/plain": [
       "407007.84570176713"
      ]
     },
     "execution_count": 22,
     "metadata": {},
     "output_type": "execute_result"
    }
   ],
   "source": [
    "1707475.1878901105-1300467.3421883434"
   ]
  },
  {
   "cell_type": "code",
   "execution_count": 15,
   "metadata": {},
   "outputs": [],
   "source": [
    "x=read_multiple_block_of_yaml_data('test')"
   ]
  },
  {
   "cell_type": "code",
   "execution_count": 18,
   "metadata": {},
   "outputs": [],
   "source": [
    "y=x[0]"
   ]
  },
  {
   "cell_type": "code",
   "execution_count": 19,
   "metadata": {},
   "outputs": [
    {
     "data": {
      "text/plain": [
       "{'MAIN': [{'table': 'lyst_analytics.nc_components_derived_aggregates_cummulative'},\n",
       "  {'field': 'net_commission',\n",
       "   'children': [{'name': 'GMV',\n",
       "     'children': [{'field': 'AOV',\n",
       "       'formua': \"'gross_commission'/'order_count'\"},\n",
       "      {'field': 'order_count',\n",
       "       'children': [{'field': 'order_count_per_conversion'},\n",
       "        {'field': 'conversion_count',\n",
       "         'name': 'Number of Conversions',\n",
       "         'children': [{'field': 'user_count', 'name': 'Number of Users'},\n",
       "          {'field': 'sessions_per_user',\n",
       "           'formula': \"'session_count'/'user_count'\"},\n",
       "          {'field': 'lead_conversion_rate',\n",
       "           'formula': \"'lead_generation_count'/'session_count'\"},\n",
       "          {'field': 'track_conversion_rate',\n",
       "           'formula': \"'conversion_count'/'lead_generation_count'\"}]}]}]},\n",
       "    {'field': 'retain_rate',\n",
       "     'formula': \"'net_commissionm'/'gross_commission'\"},\n",
       "    {'field': 'conversion_rate',\n",
       "     'name': 'CPA Rate',\n",
       "     'formula': \"'gross_commission'/'GMV'\"}]}]}"
      ]
     },
     "execution_count": 19,
     "metadata": {},
     "output_type": "execute_result"
    }
   ],
   "source": [
    "y"
   ]
  },
  {
   "cell_type": "code",
   "execution_count": 7,
   "metadata": {},
   "outputs": [],
   "source": [
    "pydqt.set_schema('core_wip')\n",
    "q=pydqt.Query('nc_components_derived_aggregates_v2.sql',freq=['WEEK'])"
   ]
  },
  {
   "cell_type": "code",
   "execution_count": 2,
   "metadata": {},
   "outputs": [
    {
     "name": "stdout",
     "output_type": "stream",
     "text": [
      "/Users/mingham/research/workspaces/growth_model/tests/sql\n"
     ]
    },
    {
     "ename": "UndefinedError",
     "evalue": "'aggregates_add_up' is undefined",
     "output_type": "error",
     "traceback": [
      "\u001b[0;31m---------------------------------------------------------------------------\u001b[0m",
      "\u001b[0;31mUndefinedError\u001b[0m                            Traceback (most recent call last)",
      "\u001b[1;32m/Users/mingham/research/notebooks/test.ipynb Cell 4\u001b[0m line \u001b[0;36m1\n\u001b[0;32m----> <a href='vscode-notebook-cell:/Users/mingham/research/notebooks/test.ipynb#X25sZmlsZQ%3D%3D?line=0'>1</a>\u001b[0m test\u001b[39m=\u001b[39mpydqt\u001b[39m.\u001b[39;49mTest(\u001b[39m'\u001b[39;49m\u001b[39mtest_aggregates_add_up.sql\u001b[39;49m\u001b[39m'\u001b[39;49m)\n",
      "File \u001b[0;32m~/research/.venv/lib/python3.11/site-packages/pydqt/pydqt.py:805\u001b[0m, in \u001b[0;36mTest.__init__\u001b[0;34m(self, template)\u001b[0m\n\u001b[1;32m    804\u001b[0m \u001b[39mdef\u001b[39;00m \u001b[39m__init__\u001b[39m(\u001b[39mself\u001b[39m, template\u001b[39m=\u001b[39m\u001b[39m'\u001b[39m\u001b[39m'\u001b[39m):\n\u001b[0;32m--> 805\u001b[0m     \u001b[39msuper\u001b[39;49m()\u001b[39m.\u001b[39;49m\u001b[39m__init__\u001b[39;49m(query\u001b[39m=\u001b[39;49mtemplate)\n\u001b[1;32m    806\u001b[0m     \u001b[39mprint\u001b[39m(template[\u001b[39m-\u001b[39m\u001b[39m4\u001b[39m:])\n\u001b[1;32m    807\u001b[0m     \u001b[39massert\u001b[39;00m template[\u001b[39m-\u001b[39m\u001b[39m4\u001b[39m:]\u001b[39m==\u001b[39m\u001b[39m'\u001b[39m\u001b[39m.sql\u001b[39m\u001b[39m'\u001b[39m, \u001b[39m\"\u001b[39m\u001b[39myou need to input a \u001b[39m\u001b[39m'\u001b[39m\u001b[39m.sql\u001b[39m\u001b[39m'\u001b[39m\u001b[39m template file\u001b[39m\u001b[39m\"\u001b[39m\n",
      "File \u001b[0;32m~/research/.venv/lib/python3.11/site-packages/pydqt/pydqt.py:523\u001b[0m, in \u001b[0;36mQuery.__init__\u001b[0;34m(self, query, cache, **kwargs)\u001b[0m\n\u001b[1;32m    521\u001b[0m \u001b[39mself\u001b[39m\u001b[39m.\u001b[39mcore_attributes \u001b[39m=\u001b[39m [\u001b[39m'\u001b[39m\u001b[39mtemplate\u001b[39m\u001b[39m'\u001b[39m,\u001b[39m'\u001b[39m\u001b[39msql\u001b[39m\u001b[39m'\u001b[39m,\u001b[39m'\u001b[39m\u001b[39mcache\u001b[39m\u001b[39m'\u001b[39m,\u001b[39m'\u001b[39m\u001b[39mdf\u001b[39m\u001b[39m'\u001b[39m,\u001b[39m'\u001b[39m\u001b[39mcore_attributes\u001b[39m\u001b[39m'\u001b[39m,\u001b[39m'\u001b[39m\u001b[39mquery\u001b[39m\u001b[39m'\u001b[39m,\u001b[39m'\u001b[39m\u001b[39mcsv\u001b[39m\u001b[39m'\u001b[39m]\n\u001b[1;32m    522\u001b[0m \u001b[39mself\u001b[39m\u001b[39m.\u001b[39mparams\u001b[39m=\u001b[39mQueryParams(disallowed\u001b[39m=\u001b[39m\u001b[39mself\u001b[39m\u001b[39m.\u001b[39mcore_attributes,\u001b[39m*\u001b[39m\u001b[39m*\u001b[39mkwargs)\n\u001b[0;32m--> 523\u001b[0m is_template,compiled_sql\u001b[39m=\u001b[39m\u001b[39mcompile\u001b[39;49m(\u001b[39mself\u001b[39;49m\u001b[39m.\u001b[39;49mquery, \u001b[39m*\u001b[39;49m\u001b[39m*\u001b[39;49m\u001b[39mself\u001b[39;49m\u001b[39m.\u001b[39;49mparams\u001b[39m.\u001b[39;49m\u001b[39m__dict__\u001b[39;49m)\n\u001b[1;32m    524\u001b[0m \u001b[39mself\u001b[39m\u001b[39m.\u001b[39msql \u001b[39m=\u001b[39m Sql(text\u001b[39m=\u001b[39mcompiled_sql)\n\u001b[1;32m    525\u001b[0m \u001b[39mif\u001b[39;00m is_template:\n",
      "File \u001b[0;32m~/research/.venv/lib/python3.11/site-packages/pydqt/pydqt.py:924\u001b[0m, in \u001b[0;36mcompile\u001b[0;34m(template, *args, **kwargs)\u001b[0m\n\u001b[1;32m    922\u001b[0m \u001b[39melse\u001b[39;00m:\n\u001b[1;32m    923\u001b[0m     template \u001b[39m=\u001b[39m environment\u001b[39m.\u001b[39mget_template(template)\n\u001b[0;32m--> 924\u001b[0m     rendered_str \u001b[39m=\u001b[39m template\u001b[39m.\u001b[39;49mrender(kwargs)\n\u001b[1;32m    925\u001b[0m     pattern \u001b[39m=\u001b[39m \u001b[39m'\u001b[39m\u001b[39m\\'\u001b[39;00m\u001b[39m[A-Za-z0-9_.-\u001b[39m\u001b[39m\\\u001b[39m\u001b[39m/]+\u001b[39m\u001b[39m\\\u001b[39m\u001b[39m.csv\u001b[39m\u001b[39m\\'\u001b[39;00m\u001b[39m'\u001b[39m\n\u001b[1;32m    926\u001b[0m     m\u001b[39m=\u001b[39mre\u001b[39m.\u001b[39mfindall(pattern, rendered_str)\n",
      "File \u001b[0;32m~/research/.venv/lib/python3.11/site-packages/jinja2/environment.py:1301\u001b[0m, in \u001b[0;36mTemplate.render\u001b[0;34m(self, *args, **kwargs)\u001b[0m\n\u001b[1;32m   1299\u001b[0m     \u001b[39mreturn\u001b[39;00m \u001b[39mself\u001b[39m\u001b[39m.\u001b[39menvironment\u001b[39m.\u001b[39mconcat(\u001b[39mself\u001b[39m\u001b[39m.\u001b[39mroot_render_func(ctx))  \u001b[39m# type: ignore\u001b[39;00m\n\u001b[1;32m   1300\u001b[0m \u001b[39mexcept\u001b[39;00m \u001b[39mException\u001b[39;00m:\n\u001b[0;32m-> 1301\u001b[0m     \u001b[39mself\u001b[39;49m\u001b[39m.\u001b[39;49menvironment\u001b[39m.\u001b[39;49mhandle_exception()\n",
      "File \u001b[0;32m~/research/.venv/lib/python3.11/site-packages/jinja2/environment.py:936\u001b[0m, in \u001b[0;36mEnvironment.handle_exception\u001b[0;34m(self, source)\u001b[0m\n\u001b[1;32m    931\u001b[0m \u001b[39m\u001b[39m\u001b[39m\"\"\"Exception handling helper.  This is used internally to either raise\u001b[39;00m\n\u001b[1;32m    932\u001b[0m \u001b[39mrewritten exceptions or return a rendered traceback for the template.\u001b[39;00m\n\u001b[1;32m    933\u001b[0m \u001b[39m\"\"\"\u001b[39;00m\n\u001b[1;32m    934\u001b[0m \u001b[39mfrom\u001b[39;00m \u001b[39m.\u001b[39;00m\u001b[39mdebug\u001b[39;00m \u001b[39mimport\u001b[39;00m rewrite_traceback_stack\n\u001b[0;32m--> 936\u001b[0m \u001b[39mraise\u001b[39;00m rewrite_traceback_stack(source\u001b[39m=\u001b[39msource)\n",
      "File \u001b[0;32m~/research/workspaces/growth_model/tests/sql/test_aggregates_add_up.sql:1\u001b[0m, in \u001b[0;36mtop-level template code\u001b[0;34m()\u001b[0m\n\u001b[0;32m----> 1\u001b[0m {% test aggregates_add_up(metric, metric_type, dimensions, min_test_date, max_query_date, freq) %}\n\u001b[1;32m      2\u001b[0m \n\u001b[1;32m      3\u001b[0m {% set this = ({\n",
      "File \u001b[0;32m~/research/.venv/lib/python3.11/site-packages/jinja2/utils.py:83\u001b[0m, in \u001b[0;36m_PassArg.from_obj\u001b[0;34m(cls, obj)\u001b[0m\n\u001b[1;32m     81\u001b[0m \u001b[39m@classmethod\u001b[39m\n\u001b[1;32m     82\u001b[0m \u001b[39mdef\u001b[39;00m \u001b[39mfrom_obj\u001b[39m(\u001b[39mcls\u001b[39m, obj: F) \u001b[39m-\u001b[39m\u001b[39m>\u001b[39m t\u001b[39m.\u001b[39mOptional[\u001b[39m\"\u001b[39m\u001b[39m_PassArg\u001b[39m\u001b[39m\"\u001b[39m]:\n\u001b[0;32m---> 83\u001b[0m     \u001b[39mif\u001b[39;00m \u001b[39mhasattr\u001b[39m(obj, \u001b[39m\"\u001b[39m\u001b[39mjinja_pass_arg\u001b[39m\u001b[39m\"\u001b[39m):\n\u001b[1;32m     84\u001b[0m         \u001b[39mreturn\u001b[39;00m obj\u001b[39m.\u001b[39mjinja_pass_arg  \u001b[39m# type: ignore\u001b[39;00m\n\u001b[1;32m     86\u001b[0m     \u001b[39mreturn\u001b[39;00m \u001b[39mNone\u001b[39;00m\n",
      "\u001b[0;31mUndefinedError\u001b[0m: 'aggregates_add_up' is undefined"
     ]
    }
   ],
   "source": [
    "test=pydqt.Test('test_aggregates_add_up.sql')"
   ]
  },
  {
   "cell_type": "code",
   "execution_count": 20,
   "metadata": {},
   "outputs": [
    {
     "data": {
      "text/plain": [
       "<_io.TextIOWrapper name='/Users/mingham/research/.venv/lib/python3.11/site-packages/pydqt/pydqt.py' mode='r' encoding='UTF-8'>"
      ]
     },
     "execution_count": 20,
     "metadata": {},
     "output_type": "execute_result"
    }
   ],
   "source": [
    "open('/Users/mingham/research/.venv/lib/python3.11/site-packages/pydqt/pydqt.py')"
   ]
  },
  {
   "cell_type": "code",
   "execution_count": 17,
   "metadata": {},
   "outputs": [
    {
     "data": {
      "text/plain": [
       "\n",
       "SELECT 'WEEK' AS PERIOD_DS_FREQ,\n",
       "       DATE_TRUNC(WEEK, event_timestamp) AS event_ds,\n",
       "       region.major_market_partner major_market_partner,\n",
       "       is_member,\n",
       "       user_type,\n",
       "       CASE\n",
       "           WHEN (session_traffic_source) = 'PLA-CO' THEN 'PLA-CO'\n",
       "           WHEN (session_traffic_source) like 'PLA-EC' THEN 'PLA-EC'\n",
       "           WHEN (session_traffic_source) = 'APP PAID' THEN 'APP PAID'\n",
       "           WHEN (session_traffic_source) = 'DIRECT' THEN 'DIRECT'\n",
       "           WHEN ((session_traffic_source) IN ('ORGANIC',\n",
       "                                              'EMAIL',\n",
       "                                              'SEO',\n",
       "                                              'SELF REFERRER',\n",
       "                                              'SOCIAL',\n",
       "                                              'OTHER SEO',\n",
       "                                              'REFERRAL',\n",
       "                                              'WEB TO APP',\n",
       "                                              'APP INDEXING',\n",
       "                                              'APP DIRECT - APP INDEXING',\n",
       "                                              'PUSH')\n",
       "                 OR (session_traffic_source) IS NULL) THEN 'ORGANIC'\n",
       "           WHEN (session_traffic_source) IN ('PAID',\n",
       "                                             'OTHER PAID',\n",
       "                                             'PAID SOCIAL') THEN 'PAID'\n",
       "           WHEN (session_traffic_source) = 'CSS' THEN 'CSS'\n",
       "           ELSE 'OTHER'\n",
       "       END AS session_traffic_source_grouping,\n",
       "       count(distinct(ultimate_id)) AS user_count,\n",
       "       count(distinct(ultimate_session_id)) AS session_count,\n",
       "       count(distinct(purchase_intent_id)) AS lead_generation_count,\n",
       "       sum(converted_track) AS conversion_count,\n",
       "       sum(order_count) AS order_count,\n",
       "       sum(order_count)/nullif(sum(converted_track), 0) AS order_count_per_conversion,\n",
       "       sum(gross_amount)/nullif(sum(order_count), 0) AS AOV,\n",
       "       sum(gross_commission)/nullif(sum(gross_amount), 0) AS cpa_rate,\n",
       "       sum(net_commission)/nullif(sum(gross_commission), 0) AS retain_rate,\n",
       "       sum(gross_amount) AS GMV,\n",
       "       sum(gross_commission) AS gross_commission,\n",
       "       sum(net_commission) AS net_commission\n",
       "FROM union_touch_points\n",
       "LEFT JOIN lyst_analytics.partner_reporting_major_market region ON user_geoip_country = region.country_code\n",
       "WHERE event_ds>'2023-11-01'\n",
       "  AND event_ds<'2023-12-31'\n",
       "GROUP BY event_ds,\n",
       "         session_traffic_source_grouping,\n",
       "         major_market_partner,\n",
       "         is_member,\n",
       "         user_type\n",
       "UNION ALL\n",
       "SELECT 'MONTH' AS PERIOD_DS_FREQ,\n",
       "       DATE_TRUNC(MONTH, event_timestamp) AS event_ds,\n",
       "       region.major_market_partner major_market_partner,\n",
       "       is_member,\n",
       "       user_type,\n",
       "       CASE\n",
       "           WHEN (session_traffic_source) = 'PLA-CO' THEN 'PLA-CO'\n",
       "           WHEN (session_traffic_source) like 'PLA-EC' THEN 'PLA-EC'\n",
       "           WHEN (session_traffic_source) = 'APP PAID' THEN 'APP PAID'\n",
       "           WHEN (session_traffic_source) = 'DIRECT' THEN 'DIRECT'\n",
       "           WHEN ((session_traffic_source) IN ('ORGANIC',\n",
       "                                              'EMAIL',\n",
       "                                              'SEO',\n",
       "                                              'SELF REFERRER',\n",
       "                                              'SOCIAL',\n",
       "                                              'OTHER SEO',\n",
       "                                              'REFERRAL',\n",
       "                                              'WEB TO APP',\n",
       "                                              'APP INDEXING',\n",
       "                                              'APP DIRECT - APP INDEXING',\n",
       "                                              'PUSH')\n",
       "                 OR (session_traffic_source) IS NULL) THEN 'ORGANIC'\n",
       "           WHEN (session_traffic_source) IN ('PAID',\n",
       "                                             'OTHER PAID',\n",
       "                                             'PAID SOCIAL') THEN 'PAID'\n",
       "           WHEN (session_traffic_source) = 'CSS' THEN 'CSS'\n",
       "           ELSE 'OTHER'\n",
       "       END AS session_traffic_source_grouping,\n",
       "       count(distinct(ultimate_id)) AS user_count,\n",
       "       count(distinct(ultimate_session_id)) AS session_count,\n",
       "       count(distinct(purchase_intent_id)) AS lead_generation_count,\n",
       "       sum(converted_track) AS conversion_count,\n",
       "       sum(order_count) AS order_count,\n",
       "       sum(order_count)/nullif(sum(converted_track), 0) AS order_count_per_conversion,\n",
       "       sum(gross_amount)/nullif(sum(order_count), 0) AS AOV,\n",
       "       sum(gross_commission)/nullif(sum(gross_amount), 0) AS cpa_rate,\n",
       "       sum(net_commission)/nullif(sum(gross_commission), 0) AS retain_rate,\n",
       "       sum(gross_amount) AS GMV,\n",
       "       sum(gross_commission) AS gross_commission,\n",
       "       sum(net_commission) AS net_commission\n",
       "FROM union_touch_points\n",
       "LEFT JOIN lyst_analytics.partner_reporting_major_market region ON user_geoip_country = region.country_code\n",
       "WHERE event_ds>'2023-11-01'\n",
       "  AND event_ds<'2023-12-31'\n",
       "GROUP BY event_ds,\n",
       "         session_traffic_source_grouping,\n",
       "         major_market_partner,\n",
       "         is_member,\n",
       "         user_type\n",
       "UNION ALL\n",
       "SELECT 'QUARTER' AS PERIOD_DS_FREQ,\n",
       "       DATE_TRUNC(QUARTER, event_timestamp) AS event_ds,\n",
       "       region.major_market_partner major_market_partner,\n",
       "       is_member,\n",
       "       user_type,\n",
       "       CASE\n",
       "           WHEN (session_traffic_source) = 'PLA-CO' THEN 'PLA-CO'\n",
       "           WHEN (session_traffic_source) like 'PLA-EC' THEN 'PLA-EC'\n",
       "           WHEN (session_traffic_source) = 'APP PAID' THEN 'APP PAID'\n",
       "           WHEN (session_traffic_source) = 'DIRECT' THEN 'DIRECT'\n",
       "           WHEN ((session_traffic_source) IN ('ORGANIC',\n",
       "                                              'EMAIL',\n",
       "                                              'SEO',\n",
       "                                              'SELF REFERRER',\n",
       "                                              'SOCIAL',\n",
       "                                              'OTHER SEO',\n",
       "                                              'REFERRAL',\n",
       "                                              'WEB TO APP',\n",
       "                                              'APP INDEXING',\n",
       "                                              'APP DIRECT - APP INDEXING',\n",
       "                                              'PUSH')\n",
       "                 OR (session_traffic_source) IS NULL) THEN 'ORGANIC'\n",
       "           WHEN (session_traffic_source) IN ('PAID',\n",
       "                                             'OTHER PAID',\n",
       "                                             'PAID SOCIAL') THEN 'PAID'\n",
       "           WHEN (session_traffic_source) = 'CSS' THEN 'CSS'\n",
       "           ELSE 'OTHER'\n",
       "       END AS session_traffic_source_grouping,\n",
       "       count(distinct(ultimate_id)) AS user_count,\n",
       "       count(distinct(ultimate_session_id)) AS session_count,\n",
       "       count(distinct(purchase_intent_id)) AS lead_generation_count,\n",
       "       sum(converted_track) AS conversion_count,\n",
       "       sum(order_count) AS order_count,\n",
       "       sum(order_count)/nullif(sum(converted_track), 0) AS order_count_per_conversion,\n",
       "       sum(gross_amount)/nullif(sum(order_count), 0) AS AOV,\n",
       "       sum(gross_commission)/nullif(sum(gross_amount), 0) AS cpa_rate,\n",
       "       sum(net_commission)/nullif(sum(gross_commission), 0) AS retain_rate,\n",
       "       sum(gross_amount) AS GMV,\n",
       "       sum(gross_commission) AS gross_commission,\n",
       "       sum(net_commission) AS net_commission\n",
       "FROM union_touch_points\n",
       "LEFT JOIN lyst_analytics.partner_reporting_major_market region ON user_geoip_country = region.country_code\n",
       "WHERE event_ds>'2023-11-01'\n",
       "  AND event_ds<'2023-12-31'\n",
       "GROUP BY event_ds,\n",
       "         session_traffic_source_grouping,\n",
       "         major_market_partner,\n",
       "         is_member,\n",
       "         user_type ;"
      ]
     },
     "execution_count": 17,
     "metadata": {},
     "output_type": "execute_result"
    }
   ],
   "source": [
    "q.sql"
   ]
  }
 ],
 "metadata": {
  "kernelspec": {
   "display_name": ".venv",
   "language": "python",
   "name": "python3"
  },
  "language_info": {
   "codemirror_mode": {
    "name": "ipython",
    "version": 3
   },
   "file_extension": ".py",
   "mimetype": "text/x-python",
   "name": "python",
   "nbconvert_exporter": "python",
   "pygments_lexer": "ipython3",
   "version": "3.11.4"
  }
 },
 "nbformat": 4,
 "nbformat_minor": 2
}
