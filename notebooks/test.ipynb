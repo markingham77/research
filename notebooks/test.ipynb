{
 "cells": [
  {
   "cell_type": "code",
   "execution_count": 1,
   "metadata": {},
   "outputs": [],
   "source": [
    "import numpy as np\n",
    "import altair as alt\n",
    "\n",
    "import pydqt\n",
    "import pandas as pd\n",
    "import os\n",
    "import itertools\n",
    "from importlib import reload\n",
    "import numpy as np\n",
    "\n",
    "import yaml\n",
    "\n",
    "# os.sys.path.append('../timeseries') \n",
    "# from tsx import sum_of_nchoosek as snck\n",
    "# import tsx as tsx\n",
    "\n",
    "pydqt.set_workspace(root='/Users/mingham/research/workspaces/',name='search_and_recs')\n",
    "pydqt.set_schema('core_wip')"
   ]
  },
  {
   "cell_type": "code",
   "execution_count": 7,
   "metadata": {},
   "outputs": [
    {
     "name": "stdout",
     "output_type": "stream",
     "text": [
      "Initiating login request with your identity provider. A browser window should have opened for you to complete the login. If you can't see it, check existing browser windows, or your OS settings. Press CTRL+C to abort and try again...\n",
      "Going to open: https://accounts.google.com/o/saml2/idp?idpid=C01gnd76x&SAMLRequest=lZJfb9owFMW%2FSuQ9J3ZSCsUioAxEx9Z1CMJE9%2BbFl%2BDh2JntNHSffg5%2FpO6hlfYQKbLP8e%2Fee%2B5ocqxk8AzGCq1SFEcEBaAKzYUqU7TJ5%2BEdCqxjijOpFaToBSyajEeWVbKmWeP2agW%2FG7Au8A8pS7uLFDVGUc2ssFSxCix1BV1nXx9oEhHKrAXjPA5dLNwKz9o7V1OM27aN2ptImxInhBBMhtirOskH9ApRv8%2BojXa60PJqOfqe3kDEmPQ6hFd4wvJi%2FCjUeQTvUX6eRZZ%2ByvNluPy2zlGQXbubamWbCswazLMoYLN6OBdgfQXzdX8wTJIImrD1owvjyCrd7iQ7QKGrunH%2B1cj%2F4R1wLHUp%2FKwWsxTVB8Hvt%2Fs%2Fxhynq6fP91mdmS%2BqNsfbZl7cHbbZYw6DbLMld%2Byp%2FZUVKPh%2BTTbpkl1Y28BCdXk6f0SSXkh6YXybxzElNzTuR8MB%2BYGCmS9KKOZOzmvRrCh0o5yNSq1LCaf6NO7CSLDg9cR%2FgqdTEpeKD%2FpHdF4SemKa8f%2B2PsKv3Zd9e%2FQRLGZLLUXxEsy1qZh7O6E4ik8ngoe7k5RCxYTMODdgrU9KSt1ODTDn19qZBhAen6n%2FLvb4Lw%3D%3D&RelayState=50887 to authenticate...\n"
     ]
    },
    {
     "name": "stderr",
     "output_type": "stream",
     "text": [
      "/Users/mingham/research/.venv/lib/python3.11/site-packages/pydqt/pydqt.py:635: UserWarning: pandas only supports SQLAlchemy connectable (engine/connection) or database string URI or sqlite3 DBAPI2 connection. Other DBAPI2 objects are not tested. Please consider using SQLAlchemy.\n",
      "  df = pd.read_sql(self.sql.text, conn)\n"
     ]
    },
    {
     "data": {
      "text/html": [
       "<div>\n",
       "<style scoped>\n",
       "    .dataframe tbody tr th:only-of-type {\n",
       "        vertical-align: middle;\n",
       "    }\n",
       "\n",
       "    .dataframe tbody tr th {\n",
       "        vertical-align: top;\n",
       "    }\n",
       "\n",
       "    .dataframe thead th {\n",
       "        text-align: right;\n",
       "    }\n",
       "</style>\n",
       "<table border=\"1\" class=\"dataframe\">\n",
       "  <thead>\n",
       "    <tr style=\"text-align: right;\">\n",
       "      <th></th>\n",
       "      <th>VIEW_ID</th>\n",
       "      <th>QUERY</th>\n",
       "      <th>HAS_ENGAGEMENT</th>\n",
       "    </tr>\n",
       "  </thead>\n",
       "  <tbody>\n",
       "    <tr>\n",
       "      <th>0</th>\n",
       "      <td>54952e2a-b790-4b5e-aa94-26cf6788b5b7</td>\n",
       "      <td>denim women skirts</td>\n",
       "      <td>False</td>\n",
       "    </tr>\n",
       "    <tr>\n",
       "      <th>1</th>\n",
       "      <td>b51dfb48-ee81-43ec-a483-8727464991bd</td>\n",
       "      <td>air force men</td>\n",
       "      <td>False</td>\n",
       "    </tr>\n",
       "    <tr>\n",
       "      <th>2</th>\n",
       "      <td>4b07c50c-d5f4-4e65-8e34-469fe3ec7249</td>\n",
       "      <td>wihte gowns women dresses</td>\n",
       "      <td>False</td>\n",
       "    </tr>\n",
       "    <tr>\n",
       "      <th>3</th>\n",
       "      <td>06aaf1ba-82bd-4004-afef-5845485cd17f</td>\n",
       "      <td>versace watched men</td>\n",
       "      <td>False</td>\n",
       "    </tr>\n",
       "    <tr>\n",
       "      <th>4</th>\n",
       "      <td>3b2aba84-acb2-4c42-8525-c05d9ff4ea93</td>\n",
       "      <td>mini bag women</td>\n",
       "      <td>False</td>\n",
       "    </tr>\n",
       "    <tr>\n",
       "      <th>...</th>\n",
       "      <td>...</td>\n",
       "      <td>...</td>\n",
       "      <td>...</td>\n",
       "    </tr>\n",
       "    <tr>\n",
       "      <th>331832</th>\n",
       "      <td>7dc8948b-2724-4876-b6fe-778f453fd423</td>\n",
       "      <td>oscar de la renta  dresses  true</td>\n",
       "      <td>True</td>\n",
       "    </tr>\n",
       "    <tr>\n",
       "      <th>331833</th>\n",
       "      <td>240aeb1d-39cd-45ab-8719-d8d1d83996ea</td>\n",
       "      <td>large women wallets</td>\n",
       "      <td>False</td>\n",
       "    </tr>\n",
       "    <tr>\n",
       "      <th>331834</th>\n",
       "      <td>c9ee551c-3941-4b31-a347-36101705d70f</td>\n",
       "      <td>maison margiela replica men</td>\n",
       "      <td>False</td>\n",
       "    </tr>\n",
       "    <tr>\n",
       "      <th>331835</th>\n",
       "      <td>6ad92b17-712c-4493-aecf-1fa5964f3ca7</td>\n",
       "      <td>north face cream  jackets</td>\n",
       "      <td>True</td>\n",
       "    </tr>\n",
       "    <tr>\n",
       "      <th>331836</th>\n",
       "      <td>d7ab4e62-4b5b-49b2-80cf-8b2ca1537db2</td>\n",
       "      <td>comme des garcons men hats</td>\n",
       "      <td>False</td>\n",
       "    </tr>\n",
       "  </tbody>\n",
       "</table>\n",
       "<p>331837 rows × 3 columns</p>\n",
       "</div>"
      ],
      "text/plain": [
       "                                     VIEW_ID  \\\n",
       "0       54952e2a-b790-4b5e-aa94-26cf6788b5b7   \n",
       "1       b51dfb48-ee81-43ec-a483-8727464991bd   \n",
       "2       4b07c50c-d5f4-4e65-8e34-469fe3ec7249   \n",
       "3       06aaf1ba-82bd-4004-afef-5845485cd17f   \n",
       "4       3b2aba84-acb2-4c42-8525-c05d9ff4ea93   \n",
       "...                                      ...   \n",
       "331832  7dc8948b-2724-4876-b6fe-778f453fd423   \n",
       "331833  240aeb1d-39cd-45ab-8719-d8d1d83996ea   \n",
       "331834  c9ee551c-3941-4b31-a347-36101705d70f   \n",
       "331835  6ad92b17-712c-4493-aecf-1fa5964f3ca7   \n",
       "331836  d7ab4e62-4b5b-49b2-80cf-8b2ca1537db2   \n",
       "\n",
       "                                   QUERY  HAS_ENGAGEMENT  \n",
       "0                   denim women skirts             False  \n",
       "1                       air force men              False  \n",
       "2            wihte gowns women dresses             False  \n",
       "3                 versace watched men              False  \n",
       "4                      mini bag women              False  \n",
       "...                                  ...             ...  \n",
       "331832  oscar de la renta  dresses  true            True  \n",
       "331833             large women wallets             False  \n",
       "331834    maison margiela replica men              False  \n",
       "331835       north face cream  jackets              True  \n",
       "331836      comme des garcons men hats             False  \n",
       "\n",
       "[331837 rows x 3 columns]"
      ]
     },
     "execution_count": 7,
     "metadata": {},
     "output_type": "execute_result"
    }
   ],
   "source": [
    "q=pydqt.Query('queries_for_measuring_cluster_success.sql')\n",
    "q.run()\n"
   ]
  },
  {
   "cell_type": "code",
   "execution_count": 38,
   "metadata": {},
   "outputs": [],
   "source": [
    "cluster_df = pd.read_csv('~/research/clusters_pc10_k15.csv')\n",
    "cluster_df = cluster_df[cluster_df.columns[1:]]\n",
    "\n",
    "hit_rates = {}\n",
    "queries = q.df['QUERY'].str.strip()\n",
    "num_S=0\n",
    "den_S=0\n",
    "for c in cluster_df.columns:    \n",
    "    cluster_queries_list = cluster_df[c].values.tolist()\n",
    "    tf = queries.isin(cluster_queries_list)\n",
    "    # print(sum(tf))\n",
    "    # print(q.df[tf].head())\n",
    "    s=sum(q.df[tf]['HAS_ENGAGEMENT']==True)/q.df[tf].shape[0]\n",
    "    hit_rates[c]=s*100\n",
    "    num_S += sum(q.df[tf]['HAS_ENGAGEMENT']==True)\n",
    "    den_S += q.df[tf].shape[0]\n",
    "\n",
    "\n",
    "\n",
    "    # print(cluster_df[c].values.tolist())\n",
    "    # print(q.df['QUERY'].str.strip().head())\n",
    "    # queries_df = q.df[q.df['QUERY'].isin(cluster_df[c].values.tolist())]\n",
    "    # print(queries_df.head())\n",
    "    # hit_rate=queries_df['HAS_ENGAGEMENT'].sum()/queries_df.shape[0]\n",
    "    # hit_rates.append(hit_rate)"
   ]
  },
  {
   "cell_type": "code",
   "execution_count": 39,
   "metadata": {},
   "outputs": [
    {
     "data": {
      "text/plain": [
       "{'cluster_0': 0.7317688619732526,\n",
       " 'cluster_1': 1.551380586393396,\n",
       " 'cluster_2': 0.11066843736166444,\n",
       " 'cluster_3': 0.69713400464756,\n",
       " 'cluster_4': 2.0769899956502824,\n",
       " 'cluster_5': 1.7136539524599224,\n",
       " 'cluster_6': 5.913631969062197,\n",
       " 'cluster_7': 0.6832538352455847,\n",
       " 'cluster_8': 1.891891891891892,\n",
       " 'cluster_9': 3.1765574981531643,\n",
       " 'cluster_10': 1.3127853881278537,\n",
       " 'cluster_11': 6.633970056788849,\n",
       " 'cluster_12': 0.18844221105527637,\n",
       " 'cluster_13': 1.660612350804359,\n",
       " 'cluster_14': 0.0}"
      ]
     },
     "execution_count": 39,
     "metadata": {},
     "output_type": "execute_result"
    }
   ],
   "source": [
    "hit_rates"
   ]
  },
  {
   "cell_type": "code",
   "execution_count": 34,
   "metadata": {},
   "outputs": [
    {
     "data": {
      "text/plain": [
       "0.051880893330159085"
      ]
     },
     "execution_count": 34,
     "metadata": {},
     "output_type": "execute_result"
    }
   ],
   "source": [
    "q.df['HAS_ENGAGEMENT'].sum()/q.df.shape[0]"
   ]
  },
  {
   "cell_type": "code",
   "execution_count": 18,
   "metadata": {},
   "outputs": [
    {
     "data": {
      "text/plain": [
       "[nan, nan, nan, nan, nan, nan, nan, nan, nan, nan, nan, nan, nan, nan, nan]"
      ]
     },
     "execution_count": 18,
     "metadata": {},
     "output_type": "execute_result"
    }
   ],
   "source": [
    "hit_rates"
   ]
  },
  {
   "cell_type": "code",
   "execution_count": 69,
   "metadata": {},
   "outputs": [
    {
     "data": {
      "text/plain": [
       "0    [1, 3]\n",
       "1    [2, 5]\n",
       "2    [4, 9]\n",
       "Name: d, dtype: object"
      ]
     },
     "execution_count": 69,
     "metadata": {},
     "output_type": "execute_result"
    },
    {
     "name": "stdout",
     "output_type": "stream",
     "text": [
      "Initiating login request with your identity provider. A browser window should have opened for you to complete the login. If you can't see it, check existing browser windows, or your OS settings. Press CTRL+C to abort and try again...\n",
      "Going to open: https://accounts.google.com/o/saml2/idp?idpid=C01gnd76x&SAMLRequest=lZLdbuIwEIVfJfJeJ3ZSyo9FQBSEYAtbBBSpvTOxSb11PFnbaejbrxOK1L1opb2wZNnneL7xmeH4XKjgTRgrQacojggKhM6AS52n6HE%2FD%2FsosI5pzhRokaJ3YdF4NLSsUCWdVO5Fb8WfSlgX%2BIe0pe1FiiqjKTArLdWsEJa6jO4m6xVNIkJLAw4yUOiT5XsHs1YY5wmvFm6lx3txrqQY13Ud1TcRmBwnhBBMBtirGsmPq%2F7se%2FpCH2PSafRe4eWbD7Y7qS9f8B3W8SKydLHfb8LNw26PgskVdQraVoUwO2HeZCYet6sLgPUE8123N0iSSFRh7b8ujCOroT4p9ioyKMrK%2BVcjv8MnwbGCXPrGl7MUla%2BSn46%2Fn%2Fr5YXen7uHgeH5e9HqLtevfL9lm%2BxNW3dvZ8eFmTbaDOkPB4Zps0iS7tLYSS93k6fwRSToh6YRxZ58QmnTp7SCKB%2BQZBTMPJTVzrfMKzbIMKu1slAPkSrR8gJvwEix5OfZL8nRK4lzzXveMLkNC25pm9L%2BtD%2FFn98e8%2FfIRLGcbUDJ7D%2BZgCua%2BTiiO4vZE8vDUSqkomFQTzo2w1ielFNRTI5jzY%2B1MJRAeXar%2BO9ijvw%3D%3D&RelayState=53391 to authenticate...\n",
      "Initiating login request with your identity provider. A browser window should have opened for you to complete the login. If you can't see it, check existing browser windows, or your OS settings. Press CTRL+C to abort and try again...\n",
      "Going to open: https://accounts.google.com/o/saml2/idp?idpid=C01gnd76x&SAMLRequest=lZJRb9owFIX%2FSuQ9J3ZcRqlFQBSEhsZaKOm09c2LnWDVsTNfh9D9%2BplQpO6hlfZgybLP8f2uzx1Pj7WODtKBsiZDaUJQJE1hhTJVhh7zZTxCEXhuBNfWyAy9SEDTyRh4rRs2a%2F3ePMjfrQQfhYcMsP4iQ60zzHJQwAyvJTBfsN3s25rRhLDGWW8Lq9Eby8cODiCdD4QXiwAV8PbeNwzjruuS7iqxrsKUEILJDQ6qk%2BTTRX8MPb2jTzEZnPRBEeSbV7ZbZc5f8BHWr7MI2Jc838Sb%2B12OotkFdW4NtLV0O%2BkOqpCPD%2BszAASC5W54fUNpItu4C18XpwkY25WaP8vC1k3rw6tJ2OFSCqxtpULjq0WGmmclbGl25dfRj4r77Z%2BhEKt7fpXSbWla8tQc1p%2BrjueD9W2z%2F7ktUPT9kiw9JbsCaOXKnPL04YjQQUwGcTrIKWF0xGiaXI%2FIE4oWAUoZ7nvnBZoXhW2Nh6SyttKy57P4FB7FSjTTsJTI5iStjLgeHtF5SFhf003%2Bt%2FUxfut%2Bnbe7EMFqsbFaFS%2FR0rqa%2B%2FcTSpO0P1EiLnspkzVXeiaEkwAhKa1tN3eS%2BzDW3rUS4cm56r%2BDPfkL&RelayState=53475 to authenticate...\n",
      "Initiating login request with your identity provider. A browser window should have opened for you to complete the login. If you can't see it, check existing browser windows, or your OS settings. Press CTRL+C to abort and try again...\n",
      "Going to open: https://accounts.google.com/o/saml2/idp?idpid=C01gnd76x&SAMLRequest=lZJRb9owFIX%2FSuQ9J3YMa4tFQBSEykYZKqEPe3MTEzwcO%2FV1CPTXzwlF6h5aaQ%2BWLPsc3%2B%2F63OH4VKrgKCxIoxMURwQFQmcml7pI0Dadh3coAMd1zpXRIkFnAWg8GgIvVcUmtdvrJ%2FFaC3CBf0gD6y4SVFvNDAcJTPNSAHMZ20wel4xGhFXWOJMZhT5YvnZwAGGdJ7xacpAeb%2B9cxTBumiZqepGxBaaEEEwG2Ktayber%2FuR7%2BkQfY9Jv9V7h5et3tnupL1%2FwFdbLRQTsIU3X4frXJkXB5Io6NRrqUtiNsEeZie3T8gIAnmC%2BubkdUBqJOmz814VxBNo0O8UPIjNlVTv%2FauR3eCdyrEwhfeOLWYKqg8x7P%2Fbu%2B%2Bxcrkw8uPtTTznw1c9m%2BfhwLA09Pm9edtv717dJmsIhQ8HzNVnaJrsAqMVCt3k6f0RoPyT9MO6nlDA6YD0S9WL6GwUzDyU1d53zCs2zzNTaQVQYUyjR8RnchkexzKuxXzJPpiQudH57c0KXIWFdTTv639aH%2BKP7fd5WPoLFbG2UzM7B3NiSu88TiqO4O5F5uOukTJRcqkmeWwHgk1LKNFMruPNj7WwtEB5dqv472KO%2F&RelayState=53542 to authenticate...\n",
      "Initiating login request with your identity provider. A browser window should have opened for you to complete the login. If you can't see it, check existing browser windows, or your OS settings. Press CTRL+C to abort and try again...\n",
      "Going to open: https://accounts.google.com/o/saml2/idp?idpid=C01gnd76x&SAMLRequest=lZJRb9owFIX%2FSuQ9J3ZCCsUiIAZDY223iKRTtzdjm9TDsTPbIbBfPxOK1D200h4sWfY5vt%2F1uZPZsZbBgRsrtMpAHCEQcEU1E6rKwGO5Cm9BYB1RjEiteAZO3ILZdGJJLRs8b92z2vDfLbcu8A8pi%2FuLDLRGYU2ssFiRmlvsKC7mD%2Fc4iRBujHaaagleWd53EGu5cZ7wamFWeLxn5xoMYdd1UTeItKlgghCCaAy96iz5cNUffU9v6GOI0rPeK7w8f2H7KNTlC97D2l5EFn8uyzzMvxUlCOZX1IVWtq25Kbg5CMofN%2FcXAOsJVsVwNE6SiLdh578ujCOrdLeTZM%2BprpvW%2BVcjv4M7zqDUlfCNr5cZaPaC3W2%2BjLqx%2BlHEzXadq8GnbX7a%2FFoWufgzlPR2dzd4eCrt4Yke9hQE36%2FJJudk19a2fK3OeTp%2FhJI0RGkYp2WC8CDFN3F0k8Y%2FQbD0UEIR1zuv0IRS3Spno0rrSvKeT8NzeAkUrJn5JVi2QHGl2Gh4BJchwX1NM%2F3f1ifwtftl3r76CNbLXEtBT8FKm5q4txOKo7g%2FESzc9VLMayLknDHDrfVJSam7heHE%2BbF2puUATi9V%2Fx3s6V8%3D&RelayState=53789 to authenticate...\n",
      "Initiating login request with your identity provider. A browser window should have opened for you to complete the login. If you can't see it, check existing browser windows, or your OS settings. Press CTRL+C to abort and try again...\n",
      "Going to open: https://accounts.google.com/o/saml2/idp?idpid=C01gnd76x&SAMLRequest=lZJRb9owFIX%2FSuQ9J3YMtMMiIAZjRWo3StJO3Zsbm2CR2Jmv08B%2B%2FUxopO6hlfZgybLP8f2uz53MjlUZvEgLyugExRFBgdS5EUoXCXrIVuFnFIDjWvDSaJmgkwQ0m06AV2XN5o3b66383UhwgX9IA%2BsuEtRYzQwHBUzzSgJzOUvnd7eMRoTV1jiTmxK9sXzs4ADSOk%2FYWwQoj7d3rmYYt20btYPI2AJTQggmY%2BxVZ8mnXn%2F0Pb2jjzEZnvVe4eWbV7YvSl%2B%2B4COs54sI2E2WbcLNjzRDwbxHXRgNTSVtKu2LyuXD9vYCAJ5glV5djymNZBO2%2FuvCOAJt2l3JDzI3Vd04%2F2rkd3gnBS5NoXzj62WC6oMSP9fV4ynXh%2Fzu61Y%2B7e6H2z9A9c2TAfqNP6eFiFU6j8fZntznKHjsk6XnZNcAjVzrc57OHxE6DMkwjIcZJWwwYqNBNKKjXyhYeiilueucPTTPc9NoB1FhTFHKjs%2Fgc3gUK1HP%2FFIiWZC40OL66oguQ8K6mnb6v61P8Fv367x99xGslxtTqvwUrIytuHs%2FoTiKuxMlwl0nZbLiqpwLYSWAT6osTbuwkjs%2F1s42EuHppeq%2Fgz39Cw%3D%3D&RelayState=53831 to authenticate...\n",
      "Initiating login request with your identity provider. A browser window should have opened for you to complete the login. If you can't see it, check existing browser windows, or your OS settings. Press CTRL+C to abort and try again...\n",
      "Going to open: https://accounts.google.com/o/saml2/idp?idpid=C01gnd76x&SAMLRequest=lZJRb9owFIX%2FSuQ9J3YCg9YiIApDBdGVEWilvZnYpBaOnfk6DfTXz4QidQ%2BttAdLln2O73d97mB0LFXwKixIo1MURwQFQueGS12kaLuZhTcoAMc0Z8pokaKTADQaDoCVqqLj2r3otfhTC3CBf0gDbS9SVFtNDQMJVLNSAHU5zcYPS5pEhFbWOJMbhT5YvnYwAGGdJ7xaOEiP9%2BJcRTFumiZqOpGxBU4IIZjcYq86S75d9Uff0yf6GJPuWe8VXr56Z7uT%2BvIFX2HtLiKg95vNKlw9ZhsUjK%2BoE6OhLoXNhH2VudiulxcA8ASzrNe%2FTZJI1GHjvy6MI9Cm2St2ELkpq9r5VyO%2Fw3vBsTKF9I3PpymqDpL3mvvkAM9s3bkThvx4e1CLhWaH3cksvk%2ByvLsjj8tfz6fp09s2R8HTNdnknOwcoBZzfc7T%2BSOSdEPSDePuJiG006dxJ7rpkN8omHooqZlrnVdoluem1g6iwphCiZbP4HN4CZa8GvkleTohcaF5v3dElyGhbU07%2FN%2FWB%2Fij%2B33efvoI5tOVUTI%2FBTNjS%2BY%2BTyiO4vZE8nDfSqkomVRjzq0A8EkpZZqJFcz5sXa2FggPL1X%2FHezhXw%3D%3D&RelayState=53886 to authenticate...\n",
      "Initiating login request with your identity provider. A browser window should have opened for you to complete the login. If you can't see it, check existing browser windows, or your OS settings. Press CTRL+C to abort and try again...\n",
      "Going to open: https://accounts.google.com/o/saml2/idp?idpid=C01gnd76x&SAMLRequest=lZJRb9owFIX%2FSuQ9J3bSDIpFQAyExgYrKqHS9ubGJrVw7NTXaWC%2FfiY0UvfQSn2wZNnn%2BH7X546np0oFL8KCNDpDcURQIHRhuNRlhvb5MrxFATimOVNGiwydBaDpZAysUjWdNe5J34vnRoAL%2FEMaaHeRocZqahhIoJpVAqgr6G62WdMkIrS2xpnCKPTG8rGDAQjrPGFv4SA93pNzNcW4bduovYmMLXFCCMFkhL3qIvnS60%2B%2Bp3f0MSbpRe8VXr59Zfsm9fULPsJ6vIqAfs%2Fzbbi92%2BUomPWoc6OhqYTdCfsiC7G%2FX18BwBMsd4PhKEki0YSt%2F7owjkCb9qDYURSmqhvnX438Dh8Ex8qU0je%2BWmSoPkrO%2F%2FL5TH3dkLt0Xax%2B5stn9zhv9GDRjlgKP45nPtzX%2B9%2BM3G4KFDz0ySaXZFcAjVjpS57OH5EkDUkaxmmeEHozpMkwSkaDPyhYeCipmeucPTQrCtNoB1FpTKlEx2fwJbwES15P%2FZI8m5O41Hw4OKHrkNCupp18tvUxfut%2BnbdfPoLVYmuULM7B0tiKufcTiqO4O5E8PHRSKiom1YxzKwB8UkqZdm4Fc36snW0EwpNr1f8He%2FIP&RelayState=53901 to authenticate...\n",
      "Initiating login request with your identity provider. A browser window should have opened for you to complete the login. If you can't see it, check existing browser windows, or your OS settings. Press CTRL+C to abort and try again...\n",
      "Going to open: https://accounts.google.com/o/saml2/idp?idpid=C01gnd76x&SAMLRequest=lZJdb9sgFIb%2FisWubbCTNguKE2XOomZrt3y429o7CsRhxeDxUbv%2FfsRppO6ilXaBhOB9Oc%2FhPZNZV8voiRsrtMpBmiAQcUU1E6rKwW25jD%2BCyDqiGJFa8Rw8cwtm04kltWzw3LuD2vI%2FnlsXhYeUxf1FDrxRWBMrLFak5hY7infzm2ucJQg3RjtNtQSvLO87iLXcuEB4tjArAt7BuQZD2LZt0g4SbSqYIYQgGsOgOko%2BnPVd6OkNfQrR8KgPiiBfv7B9Eur0Be9hPZxEFl%2BV5Tpef9%2BVIJqfUQutrK%2B52XHzJCi%2F3V6fAGwgWO4uR%2BMsS7iP2%2FB1cZpYpdu9JI%2Bc6rrxLryahB3ccwalrkRofLXIQfMo2NIv3d0F3ZT3vO2K4qv8uTmsq90Xc9fRq%2B3Fr88PZFPc%2BN8rvaEg%2BnFONjsmu7LW85U65unCEcqGMRrG6bDMEB6M8AAl6XB8D6JFgBKKuN55hiaUaq%2BcTSqtK8l7Pg2P4WVQsGYWlmB5gdJKsdFlB05DgvuaZvq%2FrU%2Fga%2FfLvH0LEawWay0FfY6W2tTEvZ1QmqT9iWDxvpdiXhMh54wZbm1ISkrdFoYTF8baGc8BnJ6q%2FjvY078%3D&RelayState=53914 to authenticate...\n",
      "Initiating login request with your identity provider. A browser window should have opened for you to complete the login. If you can't see it, check existing browser windows, or your OS settings. Press CTRL+C to abort and try again...\n",
      "Going to open: https://accounts.google.com/o/saml2/idp?idpid=C01gnd76x&SAMLRequest=lZJbT%2BMwEIX%2FSuR9TuyEiILVtOpFZSsuW9ECWt7cZBoMjp16HNLur183pRL7ANI%2BWLLsczzf%2BEx%2FuKtU8A4WpdEZiSNGAtC5KaQuM%2FKwmoUXJEAndCGU0ZCRPSAZDvooKlXzUeNe9D1sG0AX%2BIc08u4iI43V3AiUyLWoALnL%2BXJ0e8OTiPHaGmdyo8gny%2FcOgQjWecKTpUDp8V6cqzmlbdtG7VlkbEkTxhhll9SrDpIfJ%2F3O9%2FSFPqYsPei9wssXH2xjqY9f8B3W%2BihC%2FnO1WoSLX8sVCUYn1InR2FRgl2DfZQ4P9zdHAPQEs%2BV57zJJImjC1n9dGEeoTbtR4g1yU9WN869Gfkc3UFBlSukbn08zUr%2FJ4lqkIOevd80VPtbrib3qXW%2F%2FbJdj%2BL0Qe%2FM0nrzObp%2FXInlqMSfB4ynZ5JDsHLGBuT7k6fwRS9KQpWGcrhLGzy54nEQp6z2TYOqhpBauc56gRZ6bRjuMSmNKBR2foYfwEiqLeuiXLLIJi0td9M535DgkvKtpB%2F%2Fbep9%2Bdn%2FM252PYD5dGCXzfTAzthLu64TiKO5OZBFuOimHSkg1KgoLiD4ppUw7sSCcH2tnGyB0cKz672AP%2FgI%3D&RelayState=53945 to authenticate...\n",
      "Initiating login request with your identity provider. A browser window should have opened for you to complete the login. If you can't see it, check existing browser windows, or your OS settings. Press CTRL+C to abort and try again...\n",
      "Going to open: https://accounts.google.com/o/saml2/idp?idpid=C01gnd76x&SAMLRequest=lZJRj%2BIgFIX%2FSsM%2Bt9DajCuxmqpxNJl1Te1MNvOGgJVIoQt0qvvrF%2BuYzD7MJPtAQuAc7nc5dzw91zJ448YKrTIQRwgEXFHNhKoy8Fwuw%2B8gsI4oRqRWPAMXbsF0Mraklg3OW3dUBf%2FdcusC%2F5CyuL%2FIQGsU1sQKixWpucWO4l3%2B4wknEcKN0U5TLcEHy9cOYi03zhPeLcwKj3d0rsEQdl0XdYNImwomCCGIRtCrrpJvd%2F3Z9%2FSJPoYoveq9wsu372wzoW5f8BXW%2FiayeFWW23D7c1eCIL%2BjzrWybc3Njps3Qflz8XQDsJ5guXsYjpIk4m3Y%2Ba8L48gq3R0kOXGq66Z1%2FtXI7%2BCBMyh1JXzj60UGmpNgg3zTrfbH1aCYL%2Fb2MZ0dX8p1PtvLgj7SP5v2oF9Pw%2BJ8%2BTVPKQhe7skm12TX1rZ8ra55On%2BEkjREaRinZYLwYISTOEqG6BUECw8lFHG98w5NKNWtcjaqtK4k7%2Fk0vIaXQMGaqV%2BCZXMUV4oNH87gNiS4r2km%2F9v6GH50v8%2FbxkewXmy1FPQSLLWpifs8oTiK%2BxPBwkMvxbwmQuaMGW6tT0pK3c0NJ86PtTMtB3Byq%2FrvYE%2F%2BAg%3D%3D&RelayState=53989 to authenticate...\n",
      "Initiating login request with your identity provider. A browser window should have opened for you to complete the login. If you can't see it, check existing browser windows, or your OS settings. Press CTRL+C to abort and try again...\n",
      "Going to open: https://accounts.google.com/o/saml2/idp?idpid=C01gnd76x&SAMLRequest=lZJfb9owFMW%2FSuQ9J3YCg2ERUAZjQ2q7qIFt4s21TbDq2Kn%2FEPj2M6FI3UMr7cGSZZ%2Fj%2B7s%2Bdzo%2FNTI6cmOFVjlIEwQirqhmQtU52G5W8RcQWUcUI1IrnoMzt2A%2Bm1rSyBYX3h3UI3%2Fx3LooPKQs7i9y4I3CmlhhsSINt9hRXBX3dzhLEG6NdppqCd5YPnYQa7lxgfBmYVYEvINzLYaw67qkGyTa1DBDCEE0gUF1kXy66U%2Bhp3f0KUTDiz4ogrx8Zfsq1PULPsJ6uoos%2FrHZlHH5s9qAqLihLrSyvuGm4uYoKN8%2B3l0BbCBYVaPxJMsS7uMufF2cJlbpbi%2FJM6e6ab0LryZhB%2FecQalrERpfL3PQPgtWPkn0skjJt6bm46M67%2B7HC37w%2B8xX3ytCLS12fz6fCz%2F6vaUg%2BnVLNrsku7bW87W65OnCEcqGMRrG6XCTITxEGA2SyWC0A9EyQAlFXO%2B8QRNKtVfOJrXWteQ9n4aX8DIoWDsPS7B8gdJasfHoBK5DgvuaZva%2FrU%2FhW%2FfrvD2ECNbLUktBz9FKm4a49xNKk7Q%2FESze91LMGyJkwZjh1oakpNTdwnDiwlg74zmAs2vVfwd79hc%3D&RelayState=54024 to authenticate...\n",
      "Initiating login request with your identity provider. A browser window should have opened for you to complete the login. If you can't see it, check existing browser windows, or your OS settings. Press CTRL+C to abort and try again...\n",
      "Going to open: https://accounts.google.com/o/saml2/idp?idpid=C01gnd76x&SAMLRequest=lZJRb9sgFIX%2FisWebbBjJSmKE6VJrbrq2qxxqmxvDIiDgsEFXKf79SNOI3UPrbQHJATncL%2FLuZPZsZbBKzdWaJWBOEIg4IpqJlSVgU2Zh2MQWEcUI1IrnoE3bsFsOrGklg2et26vnvhLy60L%2FEPK4v4iA61RWBMrLFak5hY7itfz7%2Fc4iRBujHaaagk%2BWL52EGu5cZ7wYmFWeLy9cw2GsOu6qBtE2lQwQQhBdAW96iT5dtEffU%2Bf6GOI0pPeK7x89c52LdT5C77C%2Bn0WWXxblqtw9bguQTC%2FoC60sm3NzZqbV0H55un%2BDGA9Qb4ejq6SJOJt2PmvC%2BPIKt3tJDlwquumdf7VyO%2FgjjModSV848UyA81BMHZLfozHhzuiixHd3tVFIfJNTrfXjy83z6ux4Fu3v%2Fnzs9tXYwqC50uyySnZwtqWF%2BqUp%2FNHKElDlIZxWiYIpwOcoAgNB79AsPRQQhHXOy%2FQhFLdKmejSutK8p5Pw1N4CRSsmfklWLZAcaXYaHgE5yHBfU0z%2Fd%2FWJ%2FCj%2B33eHnwExXKlpaBvQa5NTdznCcVR3J8IFu56KeY1EXLOmOHW%2BqSk1N3CcOL8WDvTcgCn56r%2FDvb0Lw%3D%3D&RelayState=54230 to authenticate...\n",
      "Initiating login request with your identity provider. A browser window should have opened for you to complete the login. If you can't see it, check existing browser windows, or your OS settings. Press CTRL+C to abort and try again...\n",
      "Going to open: https://accounts.google.com/o/saml2/idp?idpid=C01gnd76x&SAMLRequest=lZJfb9sgFMW%2FisWebcD1kgXFifJn6dJ1W5S4m7Q3YoiLisHj4jj99iNOI3UPrbQHJATncH%2BXc8fTU62jo3SgrMkRTQiKpCmtUKbK0UOxij%2BhCDw3gmtrZI6eJaDpZAy81g2btf7RbOWfVoKPwkMGWH%2BRo9YZZjkoYIbXEpgv2W727Z6lCWGNs96WVqNXlvcdHEA6HwivFgEq4D163zCMu65LupvEugqnhBBMRjiozpIPV%2F0p9PSGnmKSnfVBEeSbF7a5MpcveA9rfxEB%2B1IUm3jzY1egaHZFXVgDbS3dTrqjKuXD9v4CAIFgtRsMR2mayDbuwtfFNAFju4PmT7K0ddP68GoSdvggBda2UqHx9TJHzZMS8HGjtaMdJVTvb7%2FS4RaO5ezu13xI2vlyXd%2Fdnoo9APjj5xJFP6%2FJpudk1wCtXJtznj4ckTSLSRbTrEgJyzJ2M0jSbPQbRcsApQz3vfMKzcvStsZDUllbadnzWXwOL8VKNNOwlMgXhFZGDAcndBkS1td0k%2F9tfYxfu1%2Fm7XuIYL3cWK3K52hlXc392wnRhPYnSsSHXspkzZWeCeEkQEhKa9stnOQ%2BjLV3rUR4cqn672BP%2FgI%3D&RelayState=54283 to authenticate...\n",
      "Initiating login request with your identity provider. A browser window should have opened for you to complete the login. If you can't see it, check existing browser windows, or your OS settings. Press CTRL+C to abort and try again...\n",
      "Going to open: https://accounts.google.com/o/saml2/idp?idpid=C01gnd76x&SAMLRequest=lZJRb9sgFIX%2FisWebbBrNQ2KE2XJsnpq1ih2%2BrA3AsRlweABrpP9%2BmGnkbqHVuoDEoJzuN%2Fl3MnsVMvghRsrtMpAHCEQcEU1E6rKwK5chXcgsI4oRqRWPANnbsFsOrGklg2et%2B5ZbfmfllsX%2BIeUxcNFBlqjsCZWWKxIzS12FBfz9QNOIoQbo52mWoI3lo8dxFpunCe8WpgVHu%2FZuQZD2HVd1N1E2lQwQQhBNIZe1Uu%2BXPUn39M7%2BhiitNd7hZdvXtm%2BCnX5go%2Bw9heRxfdluQk3j0UJgvkVdaGVbWtuCm5eBOW77cMFwHqCVXE7GidJxNuw818XxpFVujtIcuRU103r%2FKuR38EDZ1DqSvjG82UGmqNgYr0m%2B9%2Ffd025zSk6iXv5d%2FvjcXdO6QElbTEuOJV3eyn08RsFwdM12aRPNre25bnq83T%2BCCVpiNIwTssE4XSE4zgaj25%2BgWDpoYQibnBeoQmlulXORpXWleQDn4Z9eAkUrJn5JVi2QHGl2Oj2BC5DgoeaZvrZ1ifwrft13n76CPLlRktBz8FKm5q49xOKo3g4ESw8DFLMayLknDHDrfVJSam7heHE%2BbF2puUATi9V%2Fx%2Fs6T8%3D&RelayState=54431 to authenticate...\n",
      "Initiating login request with your identity provider. A browser window should have opened for you to complete the login. If you can't see it, check existing browser windows, or your OS settings. Press CTRL+C to abort and try again...\n",
      "Going to open: https://accounts.google.com/o/saml2/idp?idpid=C01gnd76x&SAMLRequest=lZJRb9owFIX%2FSuQ9J3YMoq1FQAyGxkbXFChq%2B2Zik1p17NTXaei%2FnwlF6h5aaQ%2BWLPsc3%2B%2F63OH4UOnoVTpQ1mQoTQiKpCmsUKbM0N1mHl%2BiCDw3gmtrZIbeJKDxaAi80jWbNP7JrORLI8FH4SEDrLvIUOMMsxwUMMMrCcwXbD25XjKaEFY7621hNfpg%2BdrBAaTzgfBsEaAC3pP3NcO4bduk7SXWlZgSQjC5wkF1lHw76w%2Bhp0%2F0KSb9oz4ogjx%2FZ%2FuuzOkLvsLanUTAfm42eZzfrDcompxRp9ZAU0m3lu5VFfJutTwBQCCYrwcXV5Qmsonb8HVxmoCx7V7zZ1nYqm58eDUJO7yXAmtbqtD4Ypah%2BlmJdro%2FKF5sl27rq11l3W51U09u5w%2F3v1O9XOb3Bujtyy87mP4oULQ9J0uPyS4AGrkwxzx9OCK0H5N%2BnPY3lLD%2BJevRhPboI4pmAUoZ7jvnGZoXhW2Mh6S0ttSy47P4GB7FStTjsJTIpiQtjbgYHNBpSFhX043%2Bt%2FUh%2Fuh%2Bn7c%2FIYLFLLdaFW%2FR3LqK%2B88TSpO0O1Ei3ndSJiuu9EQIJwFCUlrbduok92GsvWskwqNT1X8He%2FQX&RelayState=54483 to authenticate...\n",
      "Initiating login request with your identity provider. A browser window should have opened for you to complete the login. If you can't see it, check existing browser windows, or your OS settings. Press CTRL+C to abort and try again...\n",
      "Going to open: https://accounts.google.com/o/saml2/idp?idpid=C01gnd76x&SAMLRequest=lZJfb9owFMW%2FSuQ9J3YCBWoREH%2FGxkRXBOmE%2BmZik1o4dubrNLBPPxOK1D200h4sWfY5vr%2Frc4fjU6mCV2FBGp2iOCIoEDo3XOoiRU%2FZIhygABzTnCmjRYrOAtB4NARWqopOaveiN%2BJ3LcAF%2FiENtL1IUW01NQwkUM1KAdTldDt5WNEkIrSyxpncKPTO8rmDAQjrPOHNwkF6vBfnKopx0zRR04mMLXBCCMHkHnvVRfLlpj%2F5nj7Qx5h0L3qv8PL1G9tU6usXfIa1v4qAfs%2Bydbh%2B3GYomNxQZ0ZDXQq7FfZV5uJps7oCgCdYbHv9%2BySJRB02%2FuvCOAJtmoNiR5GbsqqdfzXyO3wQHCtTSN%2F4cp6i6ij57q737c%2FcPGrOVxs7HazWX7Pe4vw82P9IrJv2d83mON03wHeTHAW%2Fbskml2SXALVY6kuezh%2BRpBuSbhh3s4TQu5h2kqjT7z%2BjYO6hpGaudd6gWZ6bWjuICmMKJVo%2Bgy%2FhJVjyauyX5OmMxIXm%2Fd4JXYeEtjXt6H9bH%2BL37rd5%2B%2BkjWM7XRsn8HCyMLZn7OKE4itsTycNDK6WiZFJNOLcCwCellGlmVjDnx9rZWiA8ulb9d7BHfwE%3D&RelayState=54639 to authenticate...\n",
      "Initiating login request with your identity provider. A browser window should have opened for you to complete the login. If you can't see it, check existing browser windows, or your OS settings. Press CTRL+C to abort and try again...\n",
      "Going to open: https://accounts.google.com/o/saml2/idp?idpid=C01gnd76x&SAMLRequest=lZJdb9owFIb%2FSuRdJ3ZcoK1FQAGEhsbKV9jW3pnYpBaJnfqD0P76mVCk7qKVdmHJst%2FX5zl%2BT394qsrgyLURSiYgjhAIuMwVE7JIwDabhncgMJZKRksleQJeuQHDQd%2FQqqxJ6uyzXPMXx40N%2FEPSkPYiAU5LoqgRhkhacUNsTjbpzznBESK1VlblqgQfLF87qDFcW094tTAjPN6ztTWBsGmaqLmJlC4gRghBdA%2B96iz5dtWffE%2Bf6GOIOme9V3j58p1tJOTlC77C2l1EhnzPsmW4XGwyEKRX1LGSxlVcb7g%2Bipxv1%2FMLgPEE003v9h7jiLuw8V8XxpGRqtmX9MBzVdXO%2Blcjv4N7zmCpCuEbn00SUB8Ei%2F%2B4xW6O7qq3l65jPxajt0NcrFJhbn7vVqP10%2FFx53bbzeqxk%2BYg%2BHVNFp%2BTnRnj%2BEye87T%2BCOFOiDph3MkwIl1MYhz1cPcJBBMPJSS1rfMKTfNcOWlNVChVlLzlU%2FAcHoaC1UO%2FBEvGKC4ku%2B2dwGVISFtTD%2F639T786H6ftwcfwWyyVKXIX4Op0hW1nycUR3F7Ili4b6WEV1SUKWOaG%2BOTKkvVjDWn1o%2B11Y4DOLhU%2FXewB38B&RelayState=54671 to authenticate...\n",
      "Initiating login request with your identity provider. A browser window should have opened for you to complete the login. If you can't see it, check existing browser windows, or your OS settings. Press CTRL+C to abort and try again...\n",
      "Going to open: https://accounts.google.com/o/saml2/idp?idpid=C01gnd76x&SAMLRequest=lZJfb9sgFMW%2FisWebbDrJguKE2WOokbrtvxxtqlvxBCXFYPLxXH67UecRuoeWmkPSAjO4f4u546np1oFR2FBGp2hOCIoELo0XOoqQ7tiEX5GATimOVNGiwy9CEDTyRhYrRo6a92j3ojnVoAL%2FEMaaH%2BRodZqahhIoJrVAqgr6Xb27Z4mEaGNNc6URqE3lo8dDEBY5wmvFg7S4z0611CMu66LupvI2AonhBBMRtirzpJPV%2F3J9%2FSOPsYkPeu9wstXr2xfpL58wUdY%2B4sI6F1RrMLVj22BgtkVNTca2lrYrbBHWYrd5v4CAJ5gsR0MR0kSiTbs%2FNeFcQTadAfFnkRp6qZ1%2FtXI7%2FBBcKxMJX3jy3mGmifJB9XqOMrX84119s%2Be3RVJDrzeL9a75%2BHa%2FTrykj1wZ9Zff%2B9KFPy8Jpuck10CtGKpz3k6f0SSNCRpGKdFQuhtQlMS3ZDbBxTMPZTUzPXOKzQrS9NqB1FlTKVEz2fwObwES95M%2FZI8y0lcaT4cnNBlSGhf007%2Bt%2FUxfut%2BnbfvPoLlfGWULF%2BChbE1c%2B8nFEdxfyJ5eOilVNRMqhnnVgD4pJQyXW4Fc36snW0FwpNL1X8He%2FIX&RelayState=54694 to authenticate...\n",
      "Initiating login request with your identity provider. A browser window should have opened for you to complete the login. If you can't see it, check existing browser windows, or your OS settings. Press CTRL+C to abort and try again...\n",
      "Going to open: https://accounts.google.com/o/saml2/idp?idpid=C01gnd76x&SAMLRequest=lZJfb9owFMW%2FSuQ9J44DJatFQAzGytQ%2FFEK17c3EJnh17NTXaei3nwlF6h5aqQ%2BWLPsc39%2F1ucPxoVLBs7Agjc4QiWIUCF0YLnWZoU0%2BD7%2BiABzTnCmjRYZeBKDxaAisUjWdNG6vV%2BKpEeAC%2F5AG2l1kqLGaGgYSqGaVAOoKup7cXNMkimltjTOFUeiN5WMHAxDWecKzhYP0eHvnaopx27ZR24uMLXESxzGOL7FXHSVfzvqD7%2BkdPcFx%2F6j3Ci9fvrJ9k%2Fr0BR9hbU8ioFd5vgyXd%2BscBZMz6tRoaCph18I%2By0JsVtcnAPAE8%2FUgvUySSDRh678uJBFo0%2B4UexSFqerG%2BVcjv8M7wbEypfSNL2YZqh8l%2Fy7ut09k%2B4tMZyTdVj%2F3V4Pfd2ue5slfu2Gri9T9kHmR395fbAoUPJyTTY7JLgAasdDHPJ0%2FipN%2BGPdD0s8TQgmh%2FV7US8kfFMw8lNTMdc4zNCsK02gHUWlMqUTHZ%2FAxvARLXo%2F9kjybxqTUPB0c0GlIaFfTjj7b%2BhC%2Fdb%2FO262PYDFbGiWLl2BubMXc%2BwmRiHQnkoe7TkpFxaSacG4FgE9KKdNOrWDOj7WzjUB4dKr6%2F2CP%2FgE%3D&RelayState=54911 to authenticate...\n",
      "Initiating login request with your identity provider. A browser window should have opened for you to complete the login. If you can't see it, check existing browser windows, or your OS settings. Press CTRL+C to abort and try again...\n",
      "Going to open: https://accounts.google.com/o/saml2/idp?idpid=C01gnd76x&SAMLRequest=lZJbb%2BMgEIX%2FisU%2B22DXSbcoTpSL0mbVbqNcenujZuLQYvACjtP%2B%2BiVOI3UfWmkfkBCcw3zDmd5gX8pgB8YKrTIURwQFoHLNhSoytF5Nw58osI4pzqRWkKE3sGjQ71lWyooOa7dVC%2FhTg3WBf0hZ2l5kqDaKamaFpYqVYKnL6XJ4c02TiNDKaKdzLdEny%2FcOZi0Y5wlPFm6Fx9s6V1GMm6aJmrNImwInhBBMLrBXHSQ%2FTvq97%2BkLfYxJetB7hZfPP9hGQh2%2F4Dus56PI0qvVah7Ob5crFAxPqGOtbF2CWYLZiRzWi%2BsjgPUE02X3%2FCJJIqjDxn9dGEdW6WYj2Svkuqxq51%2BN%2FA5vgGOpC%2BEbn00yVL0Kvnj%2B9dBpRvfTUpL1y%2BTq7mW%2B26SX7%2B8i3T6cjUBxN7u8fdoW8WOOgrtTsskh2Zm1NczUIU%2Fnj0iShiQN43SVxDROKSFRp9t5QsHEQwnFXOs8QbM817VyNiq0LiS0fBofwkuw4NXAL8GzMYkLxc%2B7e3QcEtrWNP3%2Fbb2HP7s%2F5u23j2A2mWsp8rdgqk3J3NcJxVHcnggeblophZIJOeTcgLU%2BKSl1MzbAnB9rZ2pAuH%2Bs%2Bu9g9%2F8C&RelayState=55032 to authenticate...\n",
      "Initiating login request with your identity provider. A browser window should have opened for you to complete the login. If you can't see it, check existing browser windows, or your OS settings. Press CTRL+C to abort and try again...\n",
      "Going to open: https://accounts.google.com/o/saml2/idp?idpid=C01gnd76x&SAMLRequest=lZJfb9owFMW%2FSuQ9J3YCLdQiIAZDY%2F0zBqHa%2BubFJlg4dubrEPj2M6GRuodW2oMlyz7H93d97mhyKlVwFBak0SmKI4ICoXPDpS5StM0W4RAF4JjmTBktUnQWgCbjEbBSVXRau71eiz%2B1ABf4hzTQ9iJFtdXUMJBANSsFUJfTzfTxgSYRoZU1zuRGoTeWjx0MQFjnCTsLB%2Bnx9s5VFOOmaaKmFxlb4IQQgskd9qqL5FOnP%2Fme3tHHmPQveq%2Fw8tUr22epr1%2FwEdbvqwjo1yxbhavvmwwF0w51ZjTUpbAbYY8yF9v1wxUAPMFiczu4S5JI1GHjvy6MI9Cm2Sl2ELkpq9r5VyO%2FwzvBsTKF9I0v5ymqDpIvvzlyeHk%2BDX6w%2Bf12cd5m94XLvux%2Byf3%2B5nHI1sWJ7I4L%2B5NMcxQ8d8kml2SXALVY6kuezh%2BRpB%2BSfhj3sySmvSFNbiLSS15QMPdQUjPXOjtoluem1g6iwphCiZbP4Et4CZa8mvgleTojcaH54PaErkNC25p2%2FL%2Btj%2FBb9%2Bu8PfkIlvOVUTI%2FBwtjS%2BbeTyiO4vZE8nDXSqkomVRTzq0A8EkpZZqZFcz5sXa2FgiPr1X%2FHezxXw%3D%3D&RelayState=55339 to authenticate...\n",
      "Initiating login request with your identity provider. A browser window should have opened for you to complete the login. If you can't see it, check existing browser windows, or your OS settings. Press CTRL+C to abort and try again...\n",
      "Going to open: https://accounts.google.com/o/saml2/idp?idpid=C01gnd76x&SAMLRequest=lZJdb9owFIb%2FSuRdJ3ZCVsAiIAZFsNIV8TF1vfNiE7w6durjNPTfz%2BFD6i5aaReRIvt9%2FZxz3jMYHUsVvAoL0ugMxRFBgdC54VIXGdptZ2EPBeCY5kwZLTL0JgCNhgNgparouHYHvRYvtQAX%2BIc00PYiQ7XV1DCQQDUrBVCX0834fkmTiFAGIKzzOHSxcJCedXCuohg3TRM1ncjYAieEEEz62KtayRf0DlF9zqiscSY36mo5%2Bp4%2BQMSYpC3CKzxhdTF%2Bk%2Fo8gs8ov88ioPPtdhWuHjZbFIyv3U2MhroUdiPsq8zFbr08FwC%2BgtnmpttPkkjUYeNHF8YRaNPsFXsWuSmr2vlXI%2F%2BH94JjZQrpZ7WYZqh6lvxXv%2Fdwu%2Bzd1UWR%2FlFpt7O7i%2Bdq80Tu13fzZD5%2FecwfD9%2B7t4dVmqPg5zXZpE12AVCLhW7zdP6IJGlI0jD%2BuiU9mvRpmkadPnlCwdQXJTVzJ%2Be1aJbnptYOosKYQolTfQa3YSRY8mrkP8mzCYkLzbs3R3ReEnpi2uH%2Ftj7A792XffvhI1hMV0bJ%2FC2YGVsy93FCcRSfTiQP9ycpFSWTasy5FQA%2BKaVMM7GCOb%2FWztYC4eGZ%2Bu9iD%2F8C&RelayState=64491 to authenticate...\n",
      "Initiating login request with your identity provider. A browser window should have opened for you to complete the login. If you can't see it, check existing browser windows, or your OS settings. Press CTRL+C to abort and try again...\n",
      "Going to open: https://accounts.google.com/o/saml2/idp?idpid=C01gnd76x&SAMLRequest=lZLdjtowEIVfJXKvEzuB5ccioBRKi8S26QKt1DtvYrIWjh08DoF9%2BjoBpO3FrtSLSJE9x9%2BZOTOZnUvpnbgBoVWMwoAgj6tM50IVMdptl%2F4IeWCZypnUisfowgHNphNgpaxoUtsX9cSPNQfruYcU0PYiRrVRVDMQQBUrOVCb0U3yuKZRQCgD4MY6HLpJchCO9WJtRTFumiZoeoE2BY4IIZiMsatqSz6hN4jqY0ZltNWZlnfJ2fX0DiLEpN8iXIUjpDfhZ6GuI%2FiI8nwtAvptu0399Mdmi7zk3t1cK6hLbjbcnETGd0%2FrqwFwDpabwXAcRQGv%2FcaNzg8DULrZS3bgmS6r2rpXA%2FeH9zzHUhfCzWq1iFF1EHn1Ohr30t3Dmtnfw6VUoUqP59PP5JIli%2F5hvXo%2Bv86Pi6%2FpWn3JkPfrnmzUJrsCqPlKtXlad0Sivk%2F6fviwJSPaCykZBOOo9wd5C2dKKGY75d00yzJdKwtBoXUheedP4zaMCDtbM%2FeJPJ6TsFD5cHBG1yWhHdNM%2F7f1CX6rvu3bdxfBapFqKbKLt9SmZPb9hMIg7E5E7u%2B7UspLJmSS54YDuKSk1M3ccGbdWltTc4SnV%2Bq%2Fiz39Cw%3D%3D&RelayState=64542 to authenticate...\n",
      "Initiating login request with your identity provider. A browser window should have opened for you to complete the login. If you can't see it, check existing browser windows, or your OS settings. Press CTRL+C to abort and try again...\n",
      "Going to open: https://accounts.google.com/o/saml2/idp?idpid=C01gnd76x&SAMLRequest=lZJbj5swEIX%2FCnKfwYZkNxsrJKKkUVOlXbq5VO2bix1irbGpx4Tsv6%2FJRdo%2B7Ep9QEL2Of5m5sxkdqpVcBQWpNEpiiOCAqFLw6WuUrTdLMIHFIBjmjNltEjRiwA0m06A1aqhWesO%2Bkn8aQW4wD%2BkgfYXKWqtpoaBBKpZLYC6kq6zryuaRIQyAGGdx6GrhYP0rINzDcW467qoG0TGVjghhGAyxl7VSz6gV4jmfUZjjTOlUTfLyff0BiLGZNgjvMITiqvxo9SXEbxH%2BX0RAf282RRh8bjeoCC7dZcbDW0t7FrYoyzF9ml1KQB8BYv1%2FWicJJFow86PLowj0KbbK%2FYsSlM3rfOvRv4P7wXHylTSz2o5T1HzLHn2Za4%2BDbr8RxuP3CMxJj%2BtdguZrxcgCgusORzZLvu5HZPvJQp2t2STPtklQCuWus%2FT%2BSOSDEMyDOO7DXmgg4TGw2h8N%2FiFgrkvSmrmzs5b0awsTasdRJUxlRLn%2Bgzuw0iw5M3Mf5KnOYkrzUf3J3RZEnpm2un%2Ftj7Br93XffvmI1jOC6Nk%2BRIsjK2ZezuhOIrPJ5KH%2B7OUippJlXFuBYBPSinT5VYw59fa2VYgPL1Q%2F13s6V8%3D&RelayState=64574 to authenticate...\n",
      "Initiating login request with your identity provider. A browser window should have opened for you to complete the login. If you can't see it, check existing browser windows, or your OS settings. Press CTRL+C to abort and try again...\n",
      "Going to open: https://accounts.google.com/o/saml2/idp?idpid=C01gnd76x&SAMLRequest=lZJdb9owFIb%2FSuRdJ3YCI9QiIAZjQ6MtArpNu3PjQ2rVsTN%2FNLBfP4cPqbtopV1Eiuz39XPOec9ocqhl9ALGCq0KlCYERaBKzYWqCvSwW8RDFFnHFGdSKyjQESyajEeW1bKhU%2B%2Be1AZ%2Be7AuCg8pS7uLAnmjqGZWWKpYDZa6km6ntyuaJYQya8G4gEMXC7cisJ6cayjGbdsmbS%2FRpsIZIQSTGxxUneQDeoVo3mc0Rjtdanm1HEJPbyBSTPodIigCYX0xfhLqPIL3KI9nkaVfd7t1vL7f7lA0vXY308r6GswWzIso4WGzOhdgQwWL7SC%2FybIEfNyG0cVpYpVu95I9Q6nrxrvwahL%2B8B44lroSYVbLeYGaZ8E3w%2F2CNc3n%2B5%2BLP194rvrHx%2FnM3B0GD7lsOfPE%2F1hmMv%2B2gn6Jou%2FXZLMu2aW1Hpaqy9OFI5L1Y9KP0487MqS9nPYGSTYc%2FkLRPBQlFHMn57VoVpbaK2eTSutKwqk%2BjbswMix4Mwmf4MWMpJXi%2BeCAzktCT0wz%2Ft%2FWR%2Fi1%2B7JvdyGC5XytpSiP0UKbmrm3E0qT9HQieLw%2FSSnUTMgp5wasDUlJqduZAebCWjvjAeHxmfrvYo%2F%2FAg%3D%3D&RelayState=64763 to authenticate...\n",
      "Initiating login request with your identity provider. A browser window should have opened for you to complete the login. If you can't see it, check existing browser windows, or your OS settings. Press CTRL+C to abort and try again...\n",
      "Going to open: https://accounts.google.com/o/saml2/idp?idpid=C01gnd76x&SAMLRequest=lZJdb5swFIb%2FCvKuwYZk%2BbBCIkIULVO7sYSs2%2B5c2yFWjU1tU9J%2FP5MPqbtopUkgIfMeP%2B8575ktTrUMXrixQqsUxBECAVdUM6GqFOzLdTgBgXVEMSK14il45RYs5jNLatngrHVHteXPLbcu8Bcpi%2FsfKWiNwppYYbEiNbfYUbzL7u9wEiFMrOXGeRy4ljArPOvoXIMh7Lou6gaRNhVMEEIQTaFX9ZJP4A2i%2BZjRGO001fJWcvI9vYOIIRr2CK%2FwhOJauBTqMoKPKI8XkcVfyrIIi%2B%2B7EgTZrbtcK9vW3Oy4eRGU77d3FwPWO1jvRuNpkkS8DTs%2FujCOrNLdQZInTnXdtM7fGvkveOAMSl0JP6vNKgXNk2CPdDQY5xOTZbv9%2Bkh%2BD4v9cvlLo9HD%2FcPz1%2B0pLwlt5XbU5D8oCH7ekk36ZDfWtnyj%2BjydP0LJMETDMP5cogke9E8UD6d%2FQLDypoQi7lx5M00o1a1yNqq0riQ%2F%2B9OwDyOBgjUL%2FwqW5iiuFBuPTuCyJPjMNPP%2FbX0G31Zf9%2B2bj2CzKrQU9DVYa1MT935CcRSfTwQLD2cp5jURMmPMcGt9UlLqLjecOL%2FWzrQcwPmF%2Bu9iz%2F8C&RelayState=64783 to authenticate...\n",
      "Initiating login request with your identity provider. A browser window should have opened for you to complete the login. If you can't see it, check existing browser windows, or your OS settings. Press CTRL+C to abort and try again...\n",
      "Going to open: https://accounts.google.com/o/saml2/idp?idpid=C01gnd76x&SAMLRequest=lZJfb5swFMW%2FCvKewYb8t0KiLGlWtHTLAtmqvnnYoV6MTW1T0m8%2FQxKpfWilPiAh%2Bxz%2F7r3nTuenUnjPTBuuZAzCAAGPyVxRLosY7LO1PwaesURSIpRkMXhhBsxnU0NKUeFFbR%2Fljj3VzFjPPSQNbi9iUGuJFTHcYElKZrDNcbq42%2BAoQJgYw7R1OHCxUMMd69HaCkPYNE3Q9AKlCxghhCCaQKdqJV%2FAK0T1MaPSyqpciavl5Hp6BxFC1G8RTuEI24vxK5fnEXxE%2BXsWGXybZVt%2F%2BzPNgLe4drdU0tQl0ynTzzxn%2B93mXIBxFazT4WgSRQGr%2FcaNzg8DI1VzEOTIclVWtXWvBu4PHhiFQhXczSpZxaA6cvpk1f7h5v7fJvv267af7Pmktxumgo7C%2B%2FQPp0M9KJvyeziujjc58H5fk43aZBNjapbINk%2FrjlDU91HfDwcZGuPeBA%2FGwXAQPgBv5YriktjOeS2a5LmqpTVBoVQhWFefgm0YEeS0mruP03iJwkLS0fAEzkuCO6aefbb1KXztvuzbDxdBstoqwfMXb610Sez7CYVB2J1w6h86KWYl4WJBqWbGuKSEUM1SM2LdWltdMwBnZ%2BrbxZ79Bw%3D%3D&RelayState=64805 to authenticate...\n",
      "Initiating login request with your identity provider. A browser window should have opened for you to complete the login. If you can't see it, check existing browser windows, or your OS settings. Press CTRL+C to abort and try again...\n",
      "Going to open: https://accounts.google.com/o/saml2/idp?idpid=C01gnd76x&SAMLRequest=lZJbj9MwEIX%2FSmSeEzuhV6tpFdqtqChQehPwZmI3NevYweM07b%2FH6UVaHnYlHiJF9jn%2BZubMaHIuVXASFqTRKYojggKhc8OlLlK0287DAQrAMc2ZMlqk6CIATcYjYKWqaFa7o16LP7UAF%2FiHNND2IkW11dQwkEA1KwVQl9NN9nlJk4hQBiCs8zh0t3CQnnV0rqIYN00TNe8jYwucEEIwGWKvaiXv0AtE9TajssaZ3KiH5ex7egURY9JpEV7hCau78YPUtxG8Rfl1EwH9uN2uwtXXzRYF2aO7qdFQl8JuhD3JXOzWy1sB4CuYb3r9YZJEog4bP7owjkCb5qDYs8hNWdXOvxr5P3wQHCtTSD%2BrxSxF1bPkpywz%2FDi8xP1qqfdy%2FzRfd5ndq%2BX3wZT94E%2FrQTUA8Wn3e%2FUtR8H%2BkWzSJrsAqMVCt3k6f0SSTkg6YdzdkgHtEBrHUb%2Fb%2B4mCmS9KauauzkfRLM9NrR1EhTGFEtf6DG7DSLDk1cR%2FkqdTEhea93tndFsSemXa8f%2B2PsIv3fd9%2B%2BIjWMxWRsn8EsyNLZl7PaE4iq8nkoeHq5SKkkmVcW4FgE9KKdNMrWDOr7WztUB4fKP%2Bu9jjvw%3D%3D&RelayState=64825 to authenticate...\n",
      "Initiating login request with your identity provider. A browser window should have opened for you to complete the login. If you can't see it, check existing browser windows, or your OS settings. Press CTRL+C to abort and try again...\n",
      "Going to open: https://accounts.google.com/o/saml2/idp?idpid=C01gnd76x&SAMLRequest=lZJfb5swFMW%2FCvKewYbSNrFCovwRWrZ0QwmttL654FCvxma%2BJiTffoYkUvfQSntAQvY5%2Ft17z53MjrX0DtyA0CpBYUCQx1WhS6GqBD3mqT9CHlimSia14gk6cUCz6QRYLRs6b%2B2r2vI%2FLQfruYcU0P4iQa1RVDMQQBWrOVBb0N38YUOjgFAGwI11OHSxlCAc69XahmLcdV3Q3QTaVDgihGAyxk7VS76gd4jmc0ZjtNWFllfL0fX0ASLEJO4RTuEI2cW4EOo8gs8oL2cR0K95nvnZz12OvPm1u6VW0Nbc7Lg5iII%2FbjfnAsBVkO7u7sdRFPDW79zo%2FDAApbu9ZG%2B80HXTWvdq4P7wnpdY6kq4Wa1XCWreRHl4ztLm6fQy%2Bj3%2Btm9WG%2FOdr7I0XdxmOYPxYtul5hezrJjXVYG8p2uyUZ%2FsGqDla9Xnad0RiWKfxH54m5MRjQkN42B8Ez8jb%2BWKEorZwXktmhWFbpWFoNK6knyoT%2BM%2BjAiLspm5T5TJkoSVKu%2Fvjui8JHRgmun%2Ftj7B792XffvhIlivMi1FcfJSbWpmP04oDMLhRJT%2BfpBSXjMh52VpOIBLSkrdLQ1n1q21NS1HeHqm%2FrvY078%3D&RelayState=64833 to authenticate...\n",
      "Initiating login request with your identity provider. A browser window should have opened for you to complete the login. If you can't see it, check existing browser windows, or your OS settings. Press CTRL+C to abort and try again...\n",
      "Going to open: https://accounts.google.com/o/saml2/idp?idpid=C01gnd76x&SAMLRequest=lZJfb5swFMW%2FCvKewYYlTWOFRCxZNLYuo00ydXtzsUO8Gpv6mpJ%2B%2B5n8kbqHVtoDErLP8e%2Fee%2B5kdqhV8CwsSKNTFEcEBUKXhktdpWi7WYbXKADHNGfKaJGiFwFoNp0Aq1VDs9bt9Z14agW4wD%2BkgfYXKWqtpoaBBKpZLYC6kq6z7zc0iQhlAMI6j0NnCwfpWXvnGopx13VR9zEytsIJIQSTMfaqXvIBvUI07zMaa5wpjbpYDr6nNxAxJoMe4RWeUJyNn6Q%2BjeA9ysNJBPTLZlOExY%2F1BgXZpbu50dDWwq6FfZal2N7dnAoAX8FyfTUaJ0kk2rDzowvjCLTpdoo9itLUTev8q5H%2FwzvBsTKV9LPKFylqHiUX944s9TdYwMM4H8Vdxv7cq%2BJpkd%2BO9LZQ%2B7X7%2BqtdrbLbz1mJgp%2BXZJM%2B2RygFbnu83T%2BiCSDkAzCeLgh13RA6HAUxePhbxQsfFFSM3d0XopmZWla7SCqjKmUONZncB9GgiVvZv6TPJ2TuNJ8dHVApyWhR6ad%2Fm%2FrE%2Fzafd63lY8gXxRGyfIlWBpbM%2Fd2QnEUH08kD3dHKRU1kyrj3AoAn5RSpptbwZxfa2dbgfD0RP13sad%2FAQ%3D%3D&RelayState=64843 to authenticate...\n",
      "Initiating login request with your identity provider. A browser window should have opened for you to complete the login. If you can't see it, check existing browser windows, or your OS settings. Press CTRL+C to abort and try again...\n",
      "Going to open: https://accounts.google.com/o/saml2/idp?idpid=C01gnd76x&SAMLRequest=lZJdb9owFIb%2FSuRdJ3ay8FGLgBgIwUY7BGkn7c7EJnh17NQfDfz7OQGk9qKVehEpst%2FXzznnPaPJqRLBK9OGK5mBOEIgYLJQlMsyA4%2F5IhyCwFgiKRFKsgycmQGT8ciQStR46uxRbtmLY8YG%2FiFpcHuRAaclVsRwgyWpmMG2wLvp%2FRonEcLEGKatx4GrhRruWUdrawxh0zRR8z1SuoQJQgiiO%2BhVreQbeIOoP2fUWllVKHGznHxPHyBiiNIW4RWesLkaf3B5GcFnlP1FZPAyzzfh5vcuB8H01t1MSeMqpndMv%2FKCPW7XlwKMr2Cx6w%2FukiRiLmz86MI4MlI1B0GeWaGq2ln%2FauT%2F4IFRKFTJ%2FaxW8wzUz5wu58v8Jf2pn47c7avtcHr4s76nza%2F%2Bed07lfTf9ryelzPbc3tVgODplmzSJrsyxrGVbPO0%2FgglaYjSMO7laIjTBKN%2BhAbpXxDMfVFcEts5b0WTolBOWhOVSpWCdfUp2IaRQE7rif84zWYoLiUd9E%2FgsiS4Y%2BrxV1sfwbfu6749%2BAhW840SvDgHC6UrYj9OKI7i7oTT8NBJMasIF1NKNTPGJyWEamaaEevX2mrHABxfqO8Xe%2Fwf&RelayState=64867 to authenticate...\n",
      "Initiating login request with your identity provider. A browser window should have opened for you to complete the login. If you can't see it, check existing browser windows, or your OS settings. Press CTRL+C to abort and try again...\n",
      "Going to open: https://accounts.google.com/o/saml2/idp?idpid=C01gnd76x&SAMLRequest=lZLLbtswEEV%2FRWDXEilV8YOwbDg23LhxGsOPAu2OEWmZCEUqHCqy8%2FWl%2FACSRQJ0IUAg7%2BWZmTuD0aFUwauwII3OUBwRFAidGy51kaHtZhb2UACOac6U0SJDRwFoNBwAK1VFx7Xb65V4qQW4wD%2BkgbYXGaqtpoaBBKpZKYC6nK7HDwuaRIQyAGGdx6GLhYP0rL1zFcW4aZqo%2BR4ZW%2BCEEIJJH3tVK%2FmG3iGqrxmVNc7kRl0tB9%2FTJ4gYk7RFeIUnLC%2FGW6nPI%2FiK8nQWAb3bbJbh8nG9QcH42t3EaKhLYdfCvspcbFeLcwHgK5itO91%2BkkSiDhs%2FujCOQJtmp9izyE1Z1c6%2FGvk%2FvBMcK1NIP6v5NEPVs%2BSzn9MUSHwr9p2XhwO5uznaP%2BOn1UzYw%2Fa%2B390ef0z1gszf4vs0R8Hva7JJm%2BwcoBZz3ebp%2FBFJ0pCkYXyzIT2aJjTtRX3S%2FYuCqS9KauZOzmvRLM9NrR1EhTGFEqf6DG7DSLDk1ch%2FkmcTEheadzsHdF4SemLa4f%2B2PsDv3Zd9%2B%2BUjmE%2BXRsn8GMyMLZn7PKE4ik8nkoe7k5SKkkk15twKAJ%2BUUqaZWMGcX2tna4Hw8Ez9uNjDfw%3D%3D&RelayState=64889 to authenticate...\n",
      "Initiating login request with your identity provider. A browser window should have opened for you to complete the login. If you can't see it, check existing browser windows, or your OS settings. Press CTRL+C to abort and try again...\n",
      "Going to open: https://accounts.google.com/o/saml2/idp?idpid=C01gnd76x&SAMLRequest=lZJbb%2BIwEIX%2FSuR9TuykQKlFQFyKQMvu0hL20jc3NsFbx856nAb%2B%2FTpcpO5DK%2B1DpMg%2Bx9%2FMnBmMDqUKXoUFaXSK4oigQOjccKmLFG2zedhHATimOVNGixQdBaDRcACsVBUd126vH8WfWoAL%2FEMaaHuRotpqahhIoJqVAqjL6Wb8ZUWTiFAGIKzzOHSxcJCetXeuohg3TRM1N5GxBU4IIZjcYa9qJZ%2FQG0T1MaOyxpncqKvl4Ht6BxFj0mkRXuEJ64txIvV5BB9Rns8ioIssW4frb5sMBeNrd1OjoS6F3Qj7KnOxfVydCwBfwXzTu71LkkjUYeNHF8YRaNPsFHsRuSmr2vlXI%2F%2BHd4JjZQrpZ7Wcpah6kXx%2F87yux0e%2BrYGx1efFw6p5%2BPW0mnR%2F3s92v3%2FcJ4nt9iaLfpYvcxR8vyabtMkuAWqx1G2ezh%2BRpBOSThh3M9KnnR5NOlE37j6hYOaLkpq5k%2FNaNMtzU2sHUWFMocSpPoPbMBIseTXyn%2BTplMSF5re9AzovCT0x7fB%2FWx%2Fgt%2B7Lvn31ESxna6NkfgzmxpbMvZ9QHMWnE8nD3UlKRcmkGnNuBYBPSinTTK1gzq%2B1s7VAeHim%2FrvYw78%3D&RelayState=64966 to authenticate...\n",
      "Initiating login request with your identity provider. A browser window should have opened for you to complete the login. If you can't see it, check existing browser windows, or your OS settings. Press CTRL+C to abort and try again...\n",
      "Going to open: https://accounts.google.com/o/saml2/idp?idpid=C01gnd76x&SAMLRequest=lZJdb5swFIb%2FCvKuwYaRj1ohEUuULWvaRSWdtN252KFejU19TEj%2B%2FUw%2BpO6ilXaBhOz39XPOec9kdqhVsBcWpNEZiiOCAqFLw6WuMvS4XYZjFIBjmjNltMjQUQCaTSfAatXQvHXP%2BkG8tgJc4B%2FSQPuLDLVWU8NAAtWsFkBdSYv8bk2TiFAGIKzzOHSxcJCe9excQzHuui7qPkfGVjghhGByg72ql3xCbxDNx4zGGmdKo66Wg%2B%2FpHUSMSdojvMITNhfjF6nPI%2FiI8nQWAf223W7CzY9ii4L82t3caGhrYQth97IUjw%2FrcwHgK1gWw9FNkkSiDTs%2FujCOQJtup9iLKE3dtM6%2FGvk%2FvBMcK1NJP6vVIkPNi%2BT39aMZJEmR5Ld%2FDsXrvmPtsFvf%2FvqeVoNjmj%2FlG7Lgphp8lV2Jgp%2FXZJM%2B2RVAK1a6z9P5I5KkIUnDeLAlYzoY0XQcxePxbxQsfFFSM3dyXotmZWla7SCqjKmUONVncB9GgiVvZv6TPJuTuNJ8NDyg85LQE9NO%2F7f1CX7rvuzbvY9gtdgYJctjsDS2Zu79hOIoPp1IHu5OUipqJlXOuRUAPimlTDe3gjm%2F1s62AuHpmfrvYk%2F%2FAg%3D%3D&RelayState=65058 to authenticate...\n",
      "Initiating login request with your identity provider. A browser window should have opened for you to complete the login. If you can't see it, check existing browser windows, or your OS settings. Press CTRL+C to abort and try again...\n",
      "Going to open: https://accounts.google.com/o/saml2/idp?idpid=C01gnd76x&SAMLRequest=lZJbj9owEIX%2FSuQ%2BJ3ZC9oJFQCwIiqBdBNk%2B9M0bm%2BDi2KnH2UB%2FfR0u0vZhV%2BpDpMg%2Bx9%2FMnBmMjpUK3oQFaXSG4oigQOjCcKnLDL3ks%2FARBeCY5kwZLTJ0EoBGwwGwStV03Li93ojfjQAX%2BIc00O4iQ43V1DCQQDWrBFBX0O3424omEaEMQFjncehq4SA9a%2B9cTTFu2zZqe5GxJU4IIZj0sVd1ki%2FoHaL%2BnFFb40xh1M1y9D19gIgxSTuEV3jC%2Bmp8kvoygs8orxcR0K95vg7Xz9scBeNbdxOjoamE3Qr7JgvxslldCgBfwWx7%2F9BPkkg0YetHF8YRaNPuFDuIwlR14%2Fyrkf%2FDO8GxMqX0s1pMM1QfJF8tN%2Bn%2BZJ96r3c5L3k%2B%2F%2FNcpPNfy0PvUOXLSo9tOZ%2Be%2BrNd9Vig4Mct2aRLdgHQiIXu8nT%2BiCRpSNIwvstJnxJCkzQipPcTBVNflNTMnZ23ollRmEY7iEpjSiXO9RnchZFgyeuR%2FyTPJiQuNX%2B4P6LLktAz0w7%2Ft%2FUBfu%2B%2B7tt3H8FiujZKFqdgZmzF3McJxVF8PpE83J2lVFRMqjHnVgD4pJQy7cQK5vxaO9sIhIcX6r%2BLPfwL&RelayState=65132 to authenticate...\n",
      "Initiating login request with your identity provider. A browser window should have opened for you to complete the login. If you can't see it, check existing browser windows, or your OS settings. Press CTRL+C to abort and try again...\n",
      "Going to open: https://accounts.google.com/o/saml2/idp?idpid=C01gnd76x&SAMLRequest=lZJfb9owFMW%2FSuQ9J3bSQMEiIArqitRuCNI97M2zTfDq2JmvQ%2BDbz%2BGP1D200h4iRfY5%2Ft17z53MjrWODtKBsqZAaUJQJA23QpmqQK%2FlYzxCEXhmBNPWyAKdJKDZdAKs1g2dt35vNvJPK8FH4SEDtL8oUOsMtQwUUMNqCdRzup2%2FPNMsIZQBSOcDDl0tAlRg7b1vKMZd1yXdXWJdhTNCCCZjHFS95At6h2g%2BZzTOesutvlmOoacPECkmeY8IikBYX40PylxG8Bnl10UE9Kks1%2FH6%2B7ZE0fzW3cIaaGvpttIdFJevm%2BdLARAqeNwO78dZlsg27sLo4jQBY7udZm%2BS27ppfXg1CX94JwXWtlJhVqtlgZo3Jb4exqw53MHpIX858dW%2B%2FL3pBiORHkeCseOAr5%2FsbsAO86EecRT9uCWb9cmuAFq5Mn2ePhyRLI9JHqeDkowpSWmeJ8Px6CeKlqEoZZg%2FO29FM85tazwklbWVluf6LO7DyLASzSx8ShQLklZG3A%2BP6LIk9Mx00%2F9tfYLfu6%2F79i1EsFqurVb8FD1aVzP%2FcUJpkp5PlIh3ZymVNVN6LoSTACEprW23cJL5sNbetRLh6YX672JP%2FwI%3D&RelayState=65158 to authenticate...\n",
      "Initiating login request with your identity provider. A browser window should have opened for you to complete the login. If you can't see it, check existing browser windows, or your OS settings. Press CTRL+C to abort and try again...\n",
      "Going to open: https://accounts.google.com/o/saml2/idp?idpid=C01gnd76x&SAMLRequest=lZJfb9owFMW%2FSuQ9J3bSlBaLgBiIwdStiD996Jsbm9SrY2e%2BDoF9%2BjkJSN1DK%2B0hUmSf49%2B999zR5FSq4CgsSKMzFEcEBULnhktdZGi%2FW4T3KADHNGfKaJGhswA0GY%2BAlaqi09q96o34XQtwgX9IA20vMlRbTQ0DCVSzUgB1Od1OfzzQJCKUAQjrPA5dLBykZ706V1GMm6aJmpvI2AInhBBMhtirWskX9A5Rfc6orHEmN%2BpqOfmePkDEmKQtwis8YX0xfpW6H8FnlJdeBHS5263D9eN2h4LptbuZ0VCXwm6FPcpc7DcPfQHgK1hsB3fDJIlEHTZ%2BdGEcgTbNQbE3kZuyqp1%2FNfJ%2F%2BCA4VqaQflareYaqN8lvzr8YbAab7yU%2FrpYJmD9Px4q7U66HZLl5Iem3WlTl4%2B36eZ%2Bj4OmabNImuwKoxUq3eTp%2FRJI0JGkY3%2B7IkJKUpml0T%2BJnFMx9UVIz1zmvRbM8N7V2EBXGFEp09RnchpFgyauJ%2FyTPZiQuNL8bnFC%2FJLRj2vH%2Ftj7C792XffvpI1jN10bJ%2FBwsjC2Z%2BzihOIq7E8nDQyelomRSTTm3AsAnpZRpZlYw59fa2VogPO6p%2Fy72%2BC8%3D&RelayState=65236 to authenticate...\n",
      "Initiating login request with your identity provider. A browser window should have opened for you to complete the login. If you can't see it, check existing browser windows, or your OS settings. Press CTRL+C to abort and try again...\n",
      "Going to open: https://accounts.google.com/o/saml2/idp?idpid=C01gnd76x&SAMLRequest=lZJfb9owFMW%2FSuQ9J3Y8CsUiIAZCQ6IrLdB1vHmxST0cO%2FN1GtpPP4c%2FUvfQSn2IFNnn%2BHfvPXcwOpQ6epYOlDUZShOCImlyK5QpMrRZz%2BJrFIHnRnBtjczQiwQ0Gg6Al7pi49o%2FmXv5t5bgo%2FCQAdZeZKh2hlkOCpjhpQTmc7Ya3ywYTQjjANL5gENniwAVWE%2FeVwzjpmmS5mtiXYEpIQSTPg6qVvIFvUFUHzMqZ73Nrb5YDqGndxApJp0WERSBsDwbvylzGsFHlN8nEbDv6%2FUyXt6u1igaX7qbWAN1Kd1KumeVy8394lQAhApmq26vT2ki67gJo4vTBIxtdprvZW7Lqvbh1ST84Z0UWNtChVnNpxmq9kqUILZ3jbwm%2FcJPHm9o%2BUtvYC9eu38WBqbU9ijlj68%2Ft3cTyFH0cEmWtsnOAWo5N22ePhwR2olJJ06v1qTPyBXr9JJOSrcomoailOH%2B6LwUzfPc1sZDUlhbaHmsz%2BI2DIqVqEbhUyKbkLQwotc9oNOSsCPTDT%2Fb%2BgC%2FdZ%2F37UeIYD5dWq3yl2hmXcn9%2BwmlSXo8USLeHaVMllzpsRBOAoSktLbNxEnuw1p7V0uEhyfq%2F4s9%2FAc%3D&RelayState=65280 to authenticate...\n",
      "Initiating login request with your identity provider. A browser window should have opened for you to complete the login. If you can't see it, check existing browser windows, or your OS settings. Press CTRL+C to abort and try again...\n",
      "Going to open: https://accounts.google.com/o/saml2/idp?idpid=C01gnd76x&SAMLRequest=lZJdb9owFIb%2FSuRdJ3bCR8EiIApCZWMrg3Rou3Njk1o4dubjNLBfP4cPqbtopV1Eiuz39XPOec9ocixV8CosSKNTFEcEBULnhktdpOgpW4QDFIBjmjNltEjRSQCajEfASlXRae1e9Eb8rgW4wD%2BkgbYXKaqtpoaBBKpZKYC6nG6nX1c0iQhlAMI6j0NXCwfpWS%2FOVRTjpmmiphMZW%2BCEEILJEHtVK%2FmE3iCqjxmVNc7kRt0sR9%2FTO4gYk26L8ApPWF%2BN91JfRvAR5fkiAvqQZetw%2FbjNUDC9dTczGupS2K2wrzIXT5vVpQDwFSy2%2FbthkkSiDhs%2FujCOQJtmr9hB5Kasaudfjfwf3guOlSmkn9VynqLqIPljdZI6Xu1W2W6z%2B1x2vuz%2BlM%2F60LBVDlVS%2FdzEnd09%2Bw4P9SBHwY9bskmb7BKgFkvd5un8EUm6IemGcS8jQ0p6tNeJBv3uLxTMfVFSM3d23opmeW5q7SAqjCmUONdncBtGgiWvJv6TPJ2RuND8rn9ElyWhZ6Yd%2F2%2FrI%2FzWfd23bz6C5XxtlMxPwcLYkrn3E4qj%2BHwiebg%2FS6komVRTzq0A8EkpZZqZFcz5tXa2FgiPL9R%2FF3v8Fw%3D%3D&RelayState=65292 to authenticate...\n",
      "Initiating login request with your identity provider. A browser window should have opened for you to complete the login. If you can't see it, check existing browser windows, or your OS settings. Press CTRL+C to abort and try again...\n",
      "Going to open: https://accounts.google.com/o/saml2/idp?idpid=C01gnd76x&SAMLRequest=lZJPb%2BIwEMW%2FSuQ9J3YC5Y9FQBTEgsR2WUI57M2NTWrVsbMep4Fvvw4BqXtopT1Eiuz3%2FJuZN5PZuVTBu7AgjU5RHBEUCJ0bLnWRoufDKhyhABzTnCmjRYouAtBsOgFWqorOa%2Feq9%2BJPLcAF%2FiENtL1IUW01NQwkUM1KAdTlNJv%2F2NIkIpQBCOs8Dt0sHKRnvTpXUYybpomaXmRsgRNCCCZj7FWt5Bv6gKi%2BZlTWOJMbdbecfU%2BfIGJM%2Bi3CKzxhdzM%2BSt2N4CvKSycCuj4cduHuZ3ZAwfze3cJoqEthM2HfZS6e99uuAPAVrLLBcJwkkajDxo8ujCPQpjkp9iZyU1a1869G%2Fg%2BfBMfKFNLParNMUfUm%2BSgr2AW2WW94filVtugNjk%2Fz5fFXLtbjMv%2B%2B3j%2BMHk2ieF9uchQc78kmbbIbgFpsdJun80ck6YekH8YPBzKmMaHxMBr2R79RsPRFSc3c1XkvmuW5qbWDqDCmUOJan8FtGAmWvJr5T%2FJ0QeJC8%2BHgjLoloVemnf5v6xP80X3btycfwWa5M0rml2BlbMnc5wnFUXw9kTw8XaVUlEyqOedWAPiklDLNwgrm%2FFo7WwuEpx3138We%2FgU%3D&RelayState=65386 to authenticate...\n",
      "Initiating login request with your identity provider. A browser window should have opened for you to complete the login. If you can't see it, check existing browser windows, or your OS settings. Press CTRL+C to abort and try again...\n",
      "Going to open: https://accounts.google.com/o/saml2/idp?idpid=C01gnd76x&SAMLRequest=lZJfb9owFMW%2FSuQ9J04Co2AREH%2BExkpbVKASe3Njk1o4duZrN7BPPyeA1D200h4iRfY5%2Ft17zx2OT6UM3rkBoVWGkihGAVe5ZkIVGdptF2EfBWCpYlRqxTN05oDGoyHQUlZk4uybeua%2FHQcb%2BIcUkOYiQ84ooikIIIqWHIjNyWbysCJpFBMKwI31OHS1MBCe9WZtRTCu6zqqO5E2BU7jOMbxAHtVI%2FmGPiCqrxmV0VbnWt4sJ9%2FTJ4gEx90G4RWesL4ap0JdRvAV5fUiAvJju12H66fNFgWTW3czrcCV3Gy4eRc53z2vLgWAr2Cx6d0N0jTiLqz96MIkAqXrg6RHnuuycta%2FGvk%2FfOAMS10IP6vlPEPVUTC5cvPjxE2fBrtH%2BNnp1Av1au8lPT8kvdkLE%2Ff7%2FXqf%2F%2BmI6T5Hwcst2bRJdgng%2BFI1eVp%2FFKfdMO6GyfdtPCBJQrqDqNfv%2F0LB3BclFLWt81Y0zXPtlIWo0LqQvK1P4yaMFAtWjf0nWDaLk0Kxu94JXZaEtEwz%2Bt%2FWh%2Fij%2B7pvjz6C5XytpcjPwUKbktrPE0qipD0RLDy0UsJLKuSEMcMBfFJS6npmOLV%2Bra1xHOHRhfrvYo%2F%2BAg%3D%3D&RelayState=65408 to authenticate...\n",
      "Initiating login request with your identity provider. A browser window should have opened for you to complete the login. If you can't see it, check existing browser windows, or your OS settings. Press CTRL+C to abort and try again...\n",
      "Going to open: https://accounts.google.com/o/saml2/idp?idpid=C01gnd76x&SAMLRequest=lZJfb9owFMW%2FSuQ9J7ZTBsMiIAZjo2UMFeg03kxsgtfEDr4Ood9%2BDn%2Bk7qGV%2BhApss%2Fx7957bm9wKvLgKC0ooxNEI4ICqVMjlM4StF5Nwi8oAMe14LnRMkEvEtCg3wNe5CUbVm6vH%2BWhkuAC%2F5AG1lwkqLKaGQ4KmOaFBOZSthz%2BnLE4IowDSOs8Dl0tApRn7Z0rGcZ1XUf1XWRshmNCCCZd7FWN5BN6hSjfZ5TWOJOa%2FGY5%2BZ7eQFBMWg3CKzxhcTV%2BVfoygvco24sI2I%2FVahEufi1XKBjeuhsZDVUh7VLao0rl%2BnF2KQB8BZNlu9ON40hWYe1HF9IItKl3OX%2BWqSnKyvlXI%2F%2BHd1Lg3GTKz2o6TlD5rMTxQbXb%2B9m96NK%2F35T67cr5fhP%2FGXbJ%2FffNfD7Znrbp9gCUH9YpCp5uycZNslOASk51k6fzRyRuhaQV0s8r0mW0w%2Bhd1CKtDQrGviiluTs7b0XzNDWVdhBlxmS5PNdncBNGjJUoB%2F5TIhkRmmnRaZ%2FQZUnYmWn7H229h1%2B7r%2Fs29xFMxwuTq%2FQlmBhbcPd2QjSi5xMlwt1ZymTBVT4UwkoAn1Sem3pkJXd%2BrZ2tJML9C%2FX%2Fxe7%2FAw%3D%3D&RelayState=49172 to authenticate...\n"
     ]
    }
   ],
   "source": [
    "df=pd.DataFrame({'a':[1,2,4],'b':[3,5,9],'c':['a','b','c']})\n",
    "\n",
    "df['d']=df[['a', 'b']].values.tolist()\n",
    "df['d'].head()\n"
   ]
  },
  {
   "cell_type": "code",
   "execution_count": 19,
   "metadata": {},
   "outputs": [
    {
     "data": {
      "text/plain": [
       "-41"
      ]
     },
     "execution_count": 19,
     "metadata": {},
     "output_type": "execute_result"
    }
   ],
   "source": [
    "import math\n",
    "math.ceil(-41.2)\n",
    "# tickvals = np.linspace(-0.5, 0.15, 5)\n",
    "# tickvals"
   ]
  },
  {
   "cell_type": "code",
   "execution_count": 13,
   "metadata": {},
   "outputs": [],
   "source": [
    "x=[1,2,3]\n",
    "# ','.join(map(str, numbers))\n",
    "y=','.join(map(str,x))"
   ]
  },
  {
   "cell_type": "code",
   "execution_count": 14,
   "metadata": {},
   "outputs": [
    {
     "data": {
      "text/plain": [
       "'1,2,3'"
      ]
     },
     "execution_count": 14,
     "metadata": {},
     "output_type": "execute_result"
    }
   ],
   "source": [
    "y"
   ]
  },
  {
   "cell_type": "code",
   "execution_count": 11,
   "metadata": {},
   "outputs": [
    {
     "data": {
      "text/plain": [
       "[[1, 2, 3], [3, 4, 6]]"
      ]
     },
     "execution_count": 11,
     "metadata": {},
     "output_type": "execute_result"
    }
   ],
   "source": [
    "\n",
    "x.tolist()"
   ]
  },
  {
   "cell_type": "code",
   "execution_count": 3,
   "metadata": {},
   "outputs": [
    {
     "name": "stdout",
     "output_type": "stream",
     "text": [
      "Initiating login request with your identity provider. A browser window should have opened for you to complete the login. If you can't see it, check existing browser windows, or your OS settings. Press CTRL+C to abort and try again...\n",
      "Going to open: https://accounts.google.com/o/saml2/idp?idpid=C01gnd76x&SAMLRequest=lZLhb%2BIgGMb%2FlYb73EK7zTliNZ7GzGV6Tru7xG8cYGWj0OOl1v33h3Umuw9bcgkkBJ4Hfi%2FPOxgdKx0dpANlTY7ShKBIGm6FMmWOnotZ3EcReGYE09bIHL1JQKPhAFilazpu%2FN6s5Z9Ggo%2FCRQZod5CjxhlqGSighlUSqOd0M1480iwhtHbWW241%2BmD52sEApPOB8GIRoALe3vuaYty2bdJeJdaVOCOEYHKHg%2Bok%2BXbRH0NNn%2BhTTK5P%2BqAI8tU723dlzl%2FwFdbvswjofVGs4tWPTYGi8QV1Yg00lXQb6Q6Ky%2Bf14xkAAsFs07u9y7JENnEbvi5OEzC23Wn2Krmt6saHW5OwwjspsLalCoXPpzmqX5Xg7fhhsejvqnXvUPj9U7V1y1%2BV3h6nT2y5lcbcP3BHXl6sA46in5dks1Oyc4BGzs0pTx%2B2SHYdkzBuijSj2Q1N%2BwlJr7YomgYoZZjvnBdoxrltjIektLbUsuOz%2BBRehpWoR2EqkU9IWhpx2zuic5PQ7k03%2FN%2FSB%2Fij%2B73fliGC%2BXRlteJv0cy6ivnPE0qTtNtRIt51UiorpvRYCCcBQlJa23biJPOhrb1rJMLD86v%2FNvbwLw%3D%3D&RelayState=63420 to authenticate...\n"
     ]
    },
    {
     "name": "stderr",
     "output_type": "stream",
     "text": [
      "/Users/mingham/research/.venv/lib/python3.11/site-packages/pydqt/pydqt.py:633: UserWarning: pandas only supports SQLAlchemy connectable (engine/connection) or database string URI or sqlite3 DBAPI2 connection. Other DBAPI2 objects are not tested. Please consider using SQLAlchemy.\n",
      "  df = pd.read_sql(self.sql.text, conn)\n"
     ]
    },
    {
     "ename": "NoDataException",
     "evalue": "Query returned no data.  Please check your query and try again",
     "output_type": "error",
     "traceback": [
      "\u001b[0;31m---------------------------------------------------------------------------\u001b[0m",
      "\u001b[0;31mNoDataException\u001b[0m                           Traceback (most recent call last)",
      "Cell \u001b[0;32mIn[3], line 3\u001b[0m\n\u001b[1;32m      1\u001b[0m pydqt\u001b[38;5;241m.\u001b[39mset_workspace(root\u001b[38;5;241m=\u001b[39m\u001b[38;5;124m'\u001b[39m\u001b[38;5;124m/Users/mingham/research/workspaces/\u001b[39m\u001b[38;5;124m'\u001b[39m,name\u001b[38;5;241m=\u001b[39m\u001b[38;5;124m'\u001b[39m\u001b[38;5;124msearch_and_recs\u001b[39m\u001b[38;5;124m'\u001b[39m)\n\u001b[1;32m      2\u001b[0m q\u001b[38;5;241m=\u001b[39mpydqt\u001b[38;5;241m.\u001b[39mQuery(\u001b[38;5;124m'\u001b[39m\u001b[38;5;124mqueries.sql\u001b[39m\u001b[38;5;124m'\u001b[39m,min_query_date\u001b[38;5;241m=\u001b[39m\u001b[38;5;124m'\u001b[39m\u001b[38;5;124m2024-02-01\u001b[39m\u001b[38;5;124m'\u001b[39m,max_query_date\u001b[38;5;241m=\u001b[39m\u001b[38;5;124m'\u001b[39m\u001b[38;5;124m2024-02-05\u001b[39m\u001b[38;5;124m'\u001b[39m)\n\u001b[0;32m----> 3\u001b[0m \u001b[43mq\u001b[49m\u001b[38;5;241;43m.\u001b[39;49m\u001b[43mrun\u001b[49m\u001b[43m(\u001b[49m\u001b[43m)\u001b[49m\n",
      "File \u001b[0;32m~/research/.venv/lib/python3.11/site-packages/pydqt/pydqt.py:637\u001b[0m, in \u001b[0;36mQuery.run\u001b[0;34m(self, database, schema)\u001b[0m\n\u001b[1;32m    634\u001b[0m \u001b[38;5;66;03m# convert any date columns to datetime (altair only works with datetime NOT date)\u001b[39;00m\n\u001b[1;32m    636\u001b[0m \u001b[38;5;28;01mif\u001b[39;00m \u001b[38;5;28mlen\u001b[39m(df)\u001b[38;5;241m==\u001b[39m\u001b[38;5;241m0\u001b[39m:\n\u001b[0;32m--> 637\u001b[0m     \u001b[38;5;28;01mraise\u001b[39;00m NoDataException(\u001b[38;5;124m'\u001b[39m\u001b[38;5;124mQuery returned no data.  Please check your query and try again\u001b[39m\u001b[38;5;124m'\u001b[39m)\n\u001b[1;32m    638\u001b[0m \u001b[38;5;28;01mfor\u001b[39;00m col \u001b[38;5;129;01min\u001b[39;00m df\u001b[38;5;241m.\u001b[39mcolumns:\n\u001b[1;32m    639\u001b[0m     \u001b[38;5;28;01mtry\u001b[39;00m:\n",
      "\u001b[0;31mNoDataException\u001b[0m: Query returned no data.  Please check your query and try again"
     ]
    }
   ],
   "source": [
    "pydqt.set_workspace(root='/Users/mingham/research/workspaces/',name='search_and_recs')\n",
    "q=pydqt.Query('queries.sql',min_query_date='2024-02-01',max_query_date='2024-02-05')\n",
    "q.run()"
   ]
  },
  {
   "cell_type": "code",
   "execution_count": 8,
   "metadata": {},
   "outputs": [
    {
     "data": {
      "text/plain": [
       "\"\\nSELECT CASE\\n           WHEN user_agent = 'mobile-api' THEN f.screenview_id\\n           ELSE f.pageview_id\\n       END AS view_id,\\n       f.session_id,\\n       f.event_timestamp,\\n       f.user_agent,\\n       page_start_index,\\n       PARSE_URL(CONCAT('http://ly.com/q?', f.pre_filters)):parameters AS pre_filters_parameters,\\n       OBJECT_KEYS(pre_filters_parameters) AS parameters_keys,\\n       LOWER(pre_filters_parameters:category::STRING) AS filters_category,\\n       LOWER(pre_filters_parameters:designer_slug::STRING) AS filters_designer_slug,\\n       LOWER(pre_filters_parameters:gender::STRING) AS filters_gender,\\n       LOWER(pre_filters_parameters:sale::STRING) AS filters_sale,\\n       LOWER(pre_filters_parameters:product_type::STRING) AS filters_product_type,\\n       ARRAY_EXCEPT(filter_options:free_text:token_entities, TO_ARRAY('stopword')) AS _token_entities,\\n       ARRAY_INTERSECTION(_token_entities, ARRAY_CONSTRUCT('gender', 'category', 'sale', 'product_type')) AS token_entities,\\n       ARRAY_CONSTRUCT_COMPACT(LOWER(query), filters_gender, filters_category, filters_product_type, filters_sale) AS search_query,\\n       ARRAY_CONSTRUCT_COMPACT(LOWER(query)) AS query_only,\\n       ARRAY_CONTAINS('designer_slug'::VARIANT, _token_entities) AS designer_slug_entity,\\n       ARRAY_CONTAINS('unknown'::VARIANT, _token_entities) AS unkown_entity\\nFROM lyst.search_and_rank.feeds_browse_search_json_flat f\\nWHERE f.event_timestamp::DATE BETWEEN '2024-02-01' AND '2024-02-05'\\n  AND f.user_agent IN ('web-backend-internal',\\n                       'lyst-website',\\n                       'mobile-api')\\n  AND pre_filters_parameters:LANGUAGE = 'en';\""
      ]
     },
     "execution_count": 8,
     "metadata": {},
     "output_type": "execute_result"
    }
   ],
   "source": [
    "q.sql.text"
   ]
  },
  {
   "cell_type": "code",
   "execution_count": 3,
   "metadata": {},
   "outputs": [],
   "source": [
    "pydqt.set_workspace('/Users/mingham/research/workspaces/', 'search_and_recs')"
   ]
  },
  {
   "cell_type": "code",
   "execution_count": 4,
   "metadata": {},
   "outputs": [],
   "source": [
    "q=pydqt.Query('queries.sql',min_query_date='2024-02-01', max_query_date='2024-02-05')"
   ]
  },
  {
   "cell_type": "code",
   "execution_count": 6,
   "metadata": {},
   "outputs": [
    {
     "data": {
      "text/plain": [
       "\n",
       "select f.session_id,\n",
       "       f.event_timestamp,\n",
       "       f.user_agent,\n",
       "       case\n",
       "           when user_agent = 'mobile-api' then f.screenview_id\n",
       "           else f.pageview_id\n",
       "       end as view_id,\n",
       "       page_start_index,\n",
       "       PARSE_URL(CONCAT('http://ly.com/q?', f.pre_filters)):parameters as pre_filters_parameters,\n",
       "       OBJECT_KEYS(pre_filters_parameters) as parameters_keys,\n",
       "       LOWER(pre_filters_parameters:category::STRING) as filters_category,\n",
       "       LOWER(pre_filters_parameters:designer_slug::STRING) as filters_designer_slug,\n",
       "       LOWER(pre_filters_parameters:gender::STRING) as filters_gender,\n",
       "       LOWER(pre_filters_parameters:sale::STRING) as filters_sale,\n",
       "       LOWER(pre_filters_parameters:product_type::STRING) as filters_product_type,\n",
       "       ARRAY_EXCEPT(filter_options:free_text:token_entities, TO_ARRAY('stopword')) as _token_entities,\n",
       "       ARRAY_INTERSECTION(_token_entities, ARRAY_CONSTRUCT('gender', 'category', 'sale', 'product_type')) as token_entities,\n",
       "       ARRAY_CONSTRUCT_COMPACT(LOWER(query), filters_gender, filters_category, filters_product_type, filters_sale) as search_query,\n",
       "       ARRAY_CONSTRUCT_COMPACT(LOWER(query)) as query_only,\n",
       "       ARRAY_CONTAINS('designer_slug'::VARIANT, _token_entities) as designer_slug_entity,\n",
       "       ARRAY_CONTAINS('unknown'::VARIANT, _token_entities) as unkown_entity\n",
       "from lyst.search_and_rank.feeds_browse_search_json_flat f\n",
       "where f.event_timestamp::DATE between '2024-02-01' and '2024-02-05'\n",
       "  and f.user_agent in ('web-backend-internal',\n",
       "                       'mobile-api',\n",
       "                       'unknown')\n",
       "  and pre_filters_parameters:language = 'en';"
      ]
     },
     "execution_count": 6,
     "metadata": {},
     "output_type": "execute_result"
    },
    {
     "name": "stdout",
     "output_type": "stream",
     "text": [
      "Initiating login request with your identity provider. A browser window should have opened for you to complete the login. If you can't see it, check existing browser windows, or your OS settings. Press CTRL+C to abort and try again...\n",
      "Going to open: https://accounts.google.com/o/saml2/idp?idpid=C01gnd76x&SAMLRequest=lZLdjtowEIVfJXKvEzuBQmMREIWyIG0LAnZb7Z2JTbDWsVOPQ6BPX4cfaXuxK%2FUiUmSf429mzgxGp1IFR2FBGp2hOCIoEDo3XOoiQ0%2FbWfgFBeCY5kwZLTJ0FoBGwwGwUlV0XLuDXovftQAX%2BIc00PYiQ7XV1DCQQDUrBVCX0834%2ByNNIkIZgLDO49DNwkF61sG5imLcNE3UdCJjC5wQQjBJsVe1kk%2FoDaL6mFFZ40xu1N1y8j29g4gx6bYIr%2FCE1c34VerrCD6i7K4ioPPtdhWulpstCsb37iZGQ10KuxH2KHPxtH68FgC%2Bgtmm10%2BTJBJ12PjRhXEE2jR7xV5Fbsqqdv7VyP%2FhveBYmUL6WS2mGapeJd%2FYn%2FPdMZ0%2FiIfpkhzZ6aU4zCZ6rb%2B5fDk5reQv%2FXxOd7D40%2BQoeL4nm7TJLgBqsdBtns4fkaQbkk6YJFvSp597tNuJOmn3BQVTX5TUzF2c96JZnptaO4gKYwolLvUZ3IaRYMmrkf8kzyYkLjTv907ouiT0wrTD%2F219gN%2B6b%2Fv2w0ewmK6Mkvk5mBlbMvd%2BQnEUX04kD%2FcXKRUlk2rMuRUAPimlTDOxgjm%2F1s7WAuHhlfrvYg%2F%2FAg%3D%3D&RelayState=64545 to authenticate...\n",
      "Initiating login request with your identity provider. A browser window should have opened for you to complete the login. If you can't see it, check existing browser windows, or your OS settings. Press CTRL+C to abort and try again...\n",
      "Going to open: https://accounts.google.com/o/saml2/idp?idpid=C01gnd76x&SAMLRequest=lZJfb9owFMW%2FSuQ9J3YCFGoREAMh0NouLTBNfXNjk5o6vpntkPTbz%2BGP1D200h4iRfY5%2Ft17zx1P21IFR2GsBJ2iOCIoEDoHLnWRot12GY5QYB3TnCnQIkXvwqLpZGxZqSo6q92rfhJ%2FamFd4B%2FSlnYXKaqNpsCstFSzUljqcrqZ3d%2FRJCKUWSuM8zh0sXArPevVuYpi3DRN1PQiMAVOCCGY3GKv6iTf0AdE9TWjMuAgB3W1tL6nTxAxJv0O4RWekF2M36U%2Bj%2BArystZZOlqu83C7Odmi4LZtbs5aFuXwmyEOcpc7J7uzgVYX8FyczO8TZJI1GHjRxfGkdXQ7BV7EzmUVe38q5H%2Fw3vBsYJC%2BlmtFymq3iTfNeXhR%2FZ4aF8OpWIkGbDHTbsb7la%2Fy%2FWxfc6W%2FfuYjPa9FUCOgl%2FXZJMu2bW1tVjrLk%2Fnj0jSD0kvTHpb0qPJkJI4Gg0GzyhY%2BKKkZu7kvBbN8hxq7WxUABRKnOoD3IWRYMmrqf8kT%2BckLjQf3rTovCT0xDST%2F219jD%2B6L%2Fv24CNYLzJQMn8PlmBK5j5PKI7i04nk4f4kpaJkUs04N8Jan5RS0MyNYM6vtTO1QHhypv672JO%2F&RelayState=55990 to authenticate...\n",
      "Initiating login request with your identity provider. A browser window should have opened for you to complete the login. If you can't see it, check existing browser windows, or your OS settings. Press CTRL+C to abort and try again...\n",
      "Going to open: https://accounts.google.com/o/saml2/idp?idpid=C01gnd76x&SAMLRequest=lZJfb9owFMW%2FSuQ9J7YDK9QiIAZjpS0DQdikvbmJCV4dO%2FN1CHz7OfyRuodW2kOkyD7Hv3vvuYPRsVTBQViQRieIRgQFQmcml7pI0DadhX0UgOM658pokaCTADQaDoCXqmLj2u31WvypBbjAP6SBtRcJqq1mhoMEpnkpgLmMbcaLZxZHhHEAYZ3HoaslB%2BlZe%2BcqhnHTNFHTiYwtcEwIweQee1Ur%2BYTeIKqPGZU1zmRG3SxH39M7CIpJt0V4hSesrsYvUl9G8BHl5SIC9pCmq3C13KQoGN%2B6mxgNdSnsRtiDzMR2%2FXwpAHwFs81d7z6OI1GHjR9dSCPQptkp%2FioyU1a1869G%2Fg%2FvRI6VKaSf1XyaoOpV5uXyhY7p1%2B0TLPadw3HxsFkvTs2qWPe%2FPfar9Wnx%2BHO6PMHvlG8zFPy4JRu3yc4BajHXbZ7OH5G4G5JOGHdSSliXMEqiHv38CwVTX5TU3J2dt6J5lplaO4gKYwolzvUZ3IYRY5lXI%2F%2FJPJkQWui8d3dElyVhZ6Yd%2Fm%2FrA%2FzWfd237z6C%2BXRllMxOwczYkrv3E6IRPZ%2FIPNydpUyUXKpxnlsB4JNSyjQTK7jza%2B1sLRAeXqj%2FLvbwLw%3D%3D&RelayState=57144 to authenticate...\n",
      "Initiating login request with your identity provider. A browser window should have opened for you to complete the login. If you can't see it, check existing browser windows, or your OS settings. Press CTRL+C to abort and try again...\n",
      "Going to open: https://accounts.google.com/o/saml2/idp?idpid=C01gnd76x&SAMLRequest=lZJbb%2BIwEIX%2FSuR9TuwEKGAREAWxRe22EZeq2jcTm9TCsbMep4F%2Fvw4XqfvQSvsQKbLP8TczZ0aTY6mCD2FBGp2iOCIoEDo3XOoiRdvNIhygABzTnCmjRYpOAtBkPAJWqopOa%2FeuV%2BJPLcAF%2FiENtL1IUW01NQwkUM1KAdTldD399USTiFAGIKzzOHS1cJCe9e5cRTFumiZqOpGxBU4IIZgMsVe1kh%2FoE6L6nlFZ40xu1M1y9D19gYgx6bYIr%2FCE7Gq8l%2Foygu8ou4sI6MNmk4XZy3qDgumtu5nRUJfCroX9kLnYrp4uBYCvYLG%2B6w%2BTJBJ12PjRhXEE2jR7xQ4iN2VVO%2F9q5P%2FwXnCsTCH9rJbzFFUHybO%2B2D2X953DqTdt9BsrTjxbuVz9fKxeYLFi211PLeVDOXzs5ih4vSWbtMkuAWqx1G2ezh%2BRpBuSTph0NvGA9rq0O4gI6f1GwdwXJTVzZ%2BetaJbnptYOosKYQolzfQa3YSRY8mriP8nTGYkLzft3R3RZEnpm2vH%2Ftj7Cn93XfXv2ESznmVEyPwULY0vmvk4ojuLzieTh%2FiylomRSTTm3AsAnpZRpZlYw59fa2VogPL5Q%2F13s8V8%3D&RelayState=58621 to authenticate...\n",
      "Initiating login request with your identity provider. A browser window should have opened for you to complete the login. If you can't see it, check existing browser windows, or your OS settings. Press CTRL+C to abort and try again...\n",
      "Going to open: https://accounts.google.com/o/saml2/idp?idpid=C01gnd76x&SAMLRequest=lZJdb9owFIb%2FSuRdJ3ZCgWEREB9jRKIbatJN3Z0bm9Q0sYOPQ%2Bi%2Fn8OH1F200i4iRfb7%2BjnnvGc8PVWldxQGpFYxCgOCPKFyzaUqYvSYrfyvyAPLFGelViJGbwLQdDIGVpU1nTX2RT2IQyPAeu4hBbS7iFFjFNUMJFDFKgHU5jSd3W9oFBDKAISxDoeuFg7SsV6srSnGbdsGbS%2FQpsARIQSTEXaqTvIFvUPUnzNqo63OdXmznFxPHyBCTO46hFM4wvZqnEt1GcFnlOeLCOg6y7b%2B9meaIW92626hFTSVMKkwR5mLx4fNpQBwFazSwXAURYFo%2FNaNzg8DULrdlexV5LqqG%2BteDdwf3gmOS11IN6tkGaP6VfJGZez5CMP9cJ7Ol%2Fvl%2BvD7aX8YfT8OIvPtKQnJIVmnBx5uUp0j79ct2ahLNgFoRKK6PK07ItGdT3p%2B1M%2FIiPaHtN8LRoPoD%2FKWriipmD07b0WzPNeNshAUWhelONencRdGhCWvp%2B6TPF6QsFB8ODihy5LQM9NM%2Frf1MX7vvu7bDxdBstzqUuZv3kqbitmPEwqD8Hwiub87S6momCxnnBsB4JIqS90ujGDWrbU1jUB4cqH%2Bu9iTvw%3D%3D&RelayState=61785 to authenticate...\n",
      "Initiating login request with your identity provider. A browser window should have opened for you to complete the login. If you can't see it, check existing browser windows, or your OS settings. Press CTRL+C to abort and try again...\n",
      "Going to open: https://accounts.google.com/o/saml2/idp?idpid=C01gnd76x&SAMLRequest=lZJBb%2BIwEIX%2FSuQ9J3bSFIpFQCyU3WhLiwrtoTdvbFKrjp16HAL%2Fvg4BqXtopT1Eiuz3%2FM3Mm%2FH0UKlgLyxIozMURwQFQheGS11m6Gm7DG9QAI5pzpTRIkNHAWg6GQOrVE1njXvVj%2BK9EeAC%2F5AG2l1kqLGaGgYSqGaVAOoKupmt7mgSEcoAhHUeh84WDtKzXp2rKcZt20btVWRsiRNCCCYj7FWd5Af6hKi%2FZ9TWOFMYdbEcfE9fIGJM0g7hFZ6wPht%2FSt2P4DvK314E9Pd2uw7XD5stCmaX7uZGQ1MJuxF2Lwvx9HjXFwC%2BguVmMBwlSSSasPWjC%2BMItGl3ir2JwlR14%2Fyrkf%2FDO8GxMqX0s8oXGarfJF%2Ft7m9HpHnP2UDvVuX%2B4Vcaqz0wu%2BIyTvnR6dGyulX6%2BCcvUPB8STbpks0BGpHrLk%2Fnj0iShuQqTAbbmFCS0vQmur4evqBg4YuSmrmT81I0KwrTaAdRaUypxKk%2Bg7swEix5PfWf5NmcxKXmw8EB9UtCT0w7%2Bd%2FWx%2Fiz%2B7xv9z6CfLE2ShbHYGlsxdzXCcVRfDqRPNydpFRUTKoZ51YA%2BKSUMu3cCub8WjvbCIQnPfXfxZ58AA%3D%3D&RelayState=54480 to authenticate...\n"
     ]
    }
   ],
   "source": [
    "q.sql"
   ]
  },
  {
   "cell_type": "code",
   "execution_count": 5,
   "metadata": {},
   "outputs": [
    {
     "name": "stdout",
     "output_type": "stream",
     "text": [
      "Initiating login request with your identity provider. A browser window should have opened for you to complete the login. If you can't see it, check existing browser windows, or your OS settings. Press CTRL+C to abort and try again...\n",
      "Going to open: https://accounts.google.com/o/saml2/idp?idpid=C01gnd76x&SAMLRequest=lZJdb9owFIb%2FSuRdJ3ZSWsAiID7GikRbVui07s61D6mFY2e208B%2B%2FRw%2BpO6ilXYRKbLf18855z2D0b5U0RtYJ43OUZoQFIHmRkhd5OhpM497KHKeacGU0ZCjAzg0Gg4cK1VFx7V%2F1Y%2Fwuwbno%2FCQdrS9yFFtNTXMSUc1K8FRz%2Bl6fLekWUIocw6sDzh0tggnA%2BvV%2B4pi3DRN0lwlxhY4I4Rg0sdB1Uq%2BoHeI6nNGZY033KiLZR96%2BgCRYtJpEUERCKuzcSL1aQSfUV5OIkdvN5tVvHpYb1A0vnQ3NdrVJdg12DfJ4elxeSrAhQrm65tuP8sSqOMmjC5OE6dNs1VsB9yUVe3Dq0n4w1sQWJlChlktZjmqdlJ8702h8%2FIwLbb6Gcrs65%2By%2FPlt8jy5reYN7%2FOmP1kdenfN%2FWy54yj6cUk2a5NdOFfDQrd5%2BnBEsk5MruIs3aQZvSb0upN0%2B%2BkvFM1CUVIzf3Reimacm1p7lxTGFAqO9RnchpFhKapR%2BKTIpyQttOje7NFpSeiRaYf%2F2%2FoAv3ef9%2B0%2BRLCYrYyS%2FBDNjS2Z%2FzihNEmPJ1LE26OUQsmkGgthwbmQlFKmmVpgPqy1tzUgPDxR%2F13s4V8%3D&RelayState=57522 to authenticate...\n"
     ]
    },
    {
     "name": "stderr",
     "output_type": "stream",
     "text": [
      "/Users/mingham/research/.venv/lib/python3.11/site-packages/pydqt/pydqt.py:633: UserWarning: pandas only supports SQLAlchemy connectable (engine/connection) or database string URI or sqlite3 DBAPI2 connection. Other DBAPI2 objects are not tested. Please consider using SQLAlchemy.\n",
      "  df = pd.read_sql(self.sql.text, conn)\n"
     ]
    },
    {
     "data": {
      "text/html": [
       "<div>\n",
       "<style scoped>\n",
       "    .dataframe tbody tr th:only-of-type {\n",
       "        vertical-align: middle;\n",
       "    }\n",
       "\n",
       "    .dataframe tbody tr th {\n",
       "        vertical-align: top;\n",
       "    }\n",
       "\n",
       "    .dataframe thead th {\n",
       "        text-align: right;\n",
       "    }\n",
       "</style>\n",
       "<table border=\"1\" class=\"dataframe\">\n",
       "  <thead>\n",
       "    <tr style=\"text-align: right;\">\n",
       "      <th></th>\n",
       "      <th>SESSION_ID</th>\n",
       "      <th>EVENT_TIMESTAMP</th>\n",
       "      <th>USER_AGENT</th>\n",
       "      <th>VIEW_ID</th>\n",
       "      <th>PAGE_START_INDEX</th>\n",
       "      <th>PRE_FILTERS_PARAMETERS</th>\n",
       "      <th>PARAMETERS_KEYS</th>\n",
       "      <th>FILTERS_CATEGORY</th>\n",
       "      <th>FILTERS_DESIGNER_SLUG</th>\n",
       "      <th>FILTERS_GENDER</th>\n",
       "      <th>FILTERS_SALE</th>\n",
       "      <th>FILTERS_PRODUCT_TYPE</th>\n",
       "      <th>_TOKEN_ENTITIES</th>\n",
       "      <th>TOKEN_ENTITIES</th>\n",
       "      <th>SEARCH_QUERY</th>\n",
       "      <th>QUERY_ONLY</th>\n",
       "      <th>DESIGNER_SLUG_ENTITY</th>\n",
       "      <th>UNKOWN_ENTITY</th>\n",
       "    </tr>\n",
       "  </thead>\n",
       "  <tbody>\n",
       "    <tr>\n",
       "      <th>0</th>\n",
       "      <td>952ef0bf-8541-4cd4-92cc-e44d520a536d</td>\n",
       "      <td>2024-02-05 00:04:10.946020</td>\n",
       "      <td>mobile-api</td>\n",
       "      <td>b5c372e6-9390-4d3a-8499-168197b0967a</td>\n",
       "      <td>48</td>\n",
       "      <td>{\\n  \"category\": \"sneakers\",\\n  \"country\": \"HR...</td>\n",
       "      <td>[\\n  \"category\",\\n  \"country\",\\n  \"free_text\",...</td>\n",
       "      <td>sneakers</td>\n",
       "      <td>None</td>\n",
       "      <td>women</td>\n",
       "      <td>None</td>\n",
       "      <td>None</td>\n",
       "      <td>[\\n  \"category\",\\n  \"designer_slug\"\\n]</td>\n",
       "      <td>[\\n  \"category\"\\n]</td>\n",
       "      <td>[\\n  \"alexander mcqueen\",\\n  \"women\",\\n  \"snea...</td>\n",
       "      <td>[\\n  \"alexander mcqueen\"\\n]</td>\n",
       "      <td>True</td>\n",
       "      <td>False</td>\n",
       "    </tr>\n",
       "    <tr>\n",
       "      <th>1</th>\n",
       "      <td>e694d04f-e744-4c53-beb4-8371f38bc670</td>\n",
       "      <td>2024-02-04 15:39:36.924916</td>\n",
       "      <td>mobile-api</td>\n",
       "      <td>ab137a9f-4a22-4db0-ac67-2b5f1b236504</td>\n",
       "      <td>0</td>\n",
       "      <td>{\\n  \"country\": \"US\",\\n  \"free_text\": \"michael...</td>\n",
       "      <td>[\\n  \"country\",\\n  \"free_text\",\\n  \"gender\",\\n...</td>\n",
       "      <td>None</td>\n",
       "      <td>None</td>\n",
       "      <td>women</td>\n",
       "      <td>None</td>\n",
       "      <td>None</td>\n",
       "      <td>[\\n  \"designer_slug\",\\n  \"gender\"\\n]</td>\n",
       "      <td>[\\n  \"gender\"\\n]</td>\n",
       "      <td>[\\n  \"michael kors\",\\n  \"women\"\\n]</td>\n",
       "      <td>[\\n  \"michael kors\"\\n]</td>\n",
       "      <td>True</td>\n",
       "      <td>False</td>\n",
       "    </tr>\n",
       "    <tr>\n",
       "      <th>2</th>\n",
       "      <td>283fb6a5-ca9b-4ad6-a8fd-be0413ef09bb</td>\n",
       "      <td>2024-02-04 20:26:36.783828</td>\n",
       "      <td>mobile-api</td>\n",
       "      <td>8de17196-f96c-4954-a0ae-eb6b932ebb87</td>\n",
       "      <td>0</td>\n",
       "      <td>{\\n  \"country\": \"TR\",\\n  \"free_text\": \"basketb...</td>\n",
       "      <td>[\\n  \"country\",\\n  \"free_text\",\\n  \"gender\",\\n...</td>\n",
       "      <td>None</td>\n",
       "      <td>None</td>\n",
       "      <td>men</td>\n",
       "      <td>None</td>\n",
       "      <td>None</td>\n",
       "      <td>[\\n  \"unknown\"\\n]</td>\n",
       "      <td>[]</td>\n",
       "      <td>[\\n  \"basketball\",\\n  \"men\"\\n]</td>\n",
       "      <td>[\\n  \"basketball\"\\n]</td>\n",
       "      <td>False</td>\n",
       "      <td>True</td>\n",
       "    </tr>\n",
       "    <tr>\n",
       "      <th>3</th>\n",
       "      <td>a35cad5f-3d1b-4092-ab58-9247392c2dc9</td>\n",
       "      <td>2024-02-05 01:05:05.204679</td>\n",
       "      <td>mobile-api</td>\n",
       "      <td>5819f9fd-4035-488d-9e38-2e8c41ef62af</td>\n",
       "      <td>384</td>\n",
       "      <td>{\\n  \"country\": \"GB\",\\n  \"free_text\": \"airmax+...</td>\n",
       "      <td>[\\n  \"country\",\\n  \"free_text\",\\n  \"gender\",\\n...</td>\n",
       "      <td>None</td>\n",
       "      <td>None</td>\n",
       "      <td>men</td>\n",
       "      <td>None</td>\n",
       "      <td>None</td>\n",
       "      <td>[\\n  \"unknown\"\\n]</td>\n",
       "      <td>[]</td>\n",
       "      <td>[\\n  \"airmax 90\",\\n  \"men\"\\n]</td>\n",
       "      <td>[\\n  \"airmax 90\"\\n]</td>\n",
       "      <td>False</td>\n",
       "      <td>True</td>\n",
       "    </tr>\n",
       "    <tr>\n",
       "      <th>4</th>\n",
       "      <td>e5e8747a-f917-4a23-8962-5a9a5e93064d</td>\n",
       "      <td>2024-02-04 13:25:03.017244</td>\n",
       "      <td>mobile-api</td>\n",
       "      <td>079a81f9-9722-482b-bbfb-62218bb88b50</td>\n",
       "      <td>24</td>\n",
       "      <td>{\\n  \"country\": \"IN\",\\n  \"free_text\": \"feragam...</td>\n",
       "      <td>[\\n  \"country\",\\n  \"free_text\",\\n  \"gender\",\\n...</td>\n",
       "      <td>None</td>\n",
       "      <td>None</td>\n",
       "      <td>men</td>\n",
       "      <td>None</td>\n",
       "      <td>None</td>\n",
       "      <td>[\\n  \"unknown\"\\n]</td>\n",
       "      <td>[]</td>\n",
       "      <td>[\\n  \"feragamo\",\\n  \"men\"\\n]</td>\n",
       "      <td>[\\n  \"feragamo\"\\n]</td>\n",
       "      <td>False</td>\n",
       "      <td>True</td>\n",
       "    </tr>\n",
       "    <tr>\n",
       "      <th>...</th>\n",
       "      <td>...</td>\n",
       "      <td>...</td>\n",
       "      <td>...</td>\n",
       "      <td>...</td>\n",
       "      <td>...</td>\n",
       "      <td>...</td>\n",
       "      <td>...</td>\n",
       "      <td>...</td>\n",
       "      <td>...</td>\n",
       "      <td>...</td>\n",
       "      <td>...</td>\n",
       "      <td>...</td>\n",
       "      <td>...</td>\n",
       "      <td>...</td>\n",
       "      <td>...</td>\n",
       "      <td>...</td>\n",
       "      <td>...</td>\n",
       "      <td>...</td>\n",
       "    </tr>\n",
       "    <tr>\n",
       "      <th>677257</th>\n",
       "      <td>3aa02958-c130-4677-97ea-df672eb32a50</td>\n",
       "      <td>2024-02-01 03:30:28.223721</td>\n",
       "      <td>mobile-api</td>\n",
       "      <td>150cf5d6-7f68-4ffa-80ed-70221e68aa35</td>\n",
       "      <td>96</td>\n",
       "      <td>{\\n  \"country\": \"PT\",\\n  \"free_text\": \"givench...</td>\n",
       "      <td>[\\n  \"country\",\\n  \"free_text\",\\n  \"gender\",\\n...</td>\n",
       "      <td>None</td>\n",
       "      <td>None</td>\n",
       "      <td>men</td>\n",
       "      <td>None</td>\n",
       "      <td>shoes</td>\n",
       "      <td>[\\n  \"designer_slug\",\\n  \"product_type\"\\n]</td>\n",
       "      <td>[\\n  \"product_type\"\\n]</td>\n",
       "      <td>[\\n  \"givenchy\",\\n  \"men\",\\n  \"shoes\"\\n]</td>\n",
       "      <td>[\\n  \"givenchy\"\\n]</td>\n",
       "      <td>True</td>\n",
       "      <td>False</td>\n",
       "    </tr>\n",
       "    <tr>\n",
       "      <th>677258</th>\n",
       "      <td>a58bee58-c1e6-4fa3-a18e-d1a1a82dc0f9</td>\n",
       "      <td>2024-02-01 06:33:49.757877</td>\n",
       "      <td>mobile-api</td>\n",
       "      <td>c31fc3cf-8cd6-4c10-91c8-4d4953138bca</td>\n",
       "      <td>72</td>\n",
       "      <td>{\\n  \"country\": \"US\",\\n  \"free_text\": \"gucci\",...</td>\n",
       "      <td>[\\n  \"country\",\\n  \"free_text\",\\n  \"gender\",\\n...</td>\n",
       "      <td>None</td>\n",
       "      <td>None</td>\n",
       "      <td>women</td>\n",
       "      <td>None</td>\n",
       "      <td>None</td>\n",
       "      <td>[\\n  \"designer_slug\",\\n  \"gender\"\\n]</td>\n",
       "      <td>[\\n  \"gender\"\\n]</td>\n",
       "      <td>[\\n  \"gucci\",\\n  \"women\"\\n]</td>\n",
       "      <td>[\\n  \"gucci\"\\n]</td>\n",
       "      <td>True</td>\n",
       "      <td>False</td>\n",
       "    </tr>\n",
       "    <tr>\n",
       "      <th>677259</th>\n",
       "      <td>25bf30d1-4a4e-46f4-a5db-620f686d8a86</td>\n",
       "      <td>2024-02-01 05:11:39.073631</td>\n",
       "      <td>mobile-api</td>\n",
       "      <td>a4ad8b1b-dfdb-4497-a0e5-34cd42aa1659</td>\n",
       "      <td>24</td>\n",
       "      <td>{\\n  \"country\": \"RO\",\\n  \"free_text\": \"snekars...</td>\n",
       "      <td>[\\n  \"country\",\\n  \"free_text\",\\n  \"gender\",\\n...</td>\n",
       "      <td>None</td>\n",
       "      <td>None</td>\n",
       "      <td>men</td>\n",
       "      <td>None</td>\n",
       "      <td>None</td>\n",
       "      <td>[\\n  \"material\",\\n  \"unknown\"\\n]</td>\n",
       "      <td>[]</td>\n",
       "      <td>[\\n  \"snekars velvet\",\\n  \"men\"\\n]</td>\n",
       "      <td>[\\n  \"snekars velvet\"\\n]</td>\n",
       "      <td>False</td>\n",
       "      <td>True</td>\n",
       "    </tr>\n",
       "    <tr>\n",
       "      <th>677260</th>\n",
       "      <td>b307bb71-f7b3-4133-a688-98ea32d0ba23</td>\n",
       "      <td>2024-02-01 07:04:05.474179</td>\n",
       "      <td>mobile-api</td>\n",
       "      <td>6a021fa2-d4fd-479b-a57a-b8d6db9dcffd</td>\n",
       "      <td>24</td>\n",
       "      <td>{\\n  \"country\": \"US\",\\n  \"free_text\": \"balmain...</td>\n",
       "      <td>[\\n  \"country\",\\n  \"free_text\",\\n  \"gender\",\\n...</td>\n",
       "      <td>None</td>\n",
       "      <td>None</td>\n",
       "      <td>women</td>\n",
       "      <td>None</td>\n",
       "      <td>bags</td>\n",
       "      <td>[\\n  \"designer_slug\",\\n  \"product_type\"\\n]</td>\n",
       "      <td>[\\n  \"product_type\"\\n]</td>\n",
       "      <td>[\\n  \"balmain\",\\n  \"women\",\\n  \"bags\"\\n]</td>\n",
       "      <td>[\\n  \"balmain\"\\n]</td>\n",
       "      <td>True</td>\n",
       "      <td>False</td>\n",
       "    </tr>\n",
       "    <tr>\n",
       "      <th>677261</th>\n",
       "      <td>3f3aa318-7529-47e9-a505-a9e9719d05ab</td>\n",
       "      <td>2024-02-01 06:43:48.417968</td>\n",
       "      <td>mobile-api</td>\n",
       "      <td>33b1c215-99f1-4722-986a-1dfc4c8442bd</td>\n",
       "      <td>24</td>\n",
       "      <td>{\\n  \"country\": \"AE\",\\n  \"free_text\": \"fendi\",...</td>\n",
       "      <td>[\\n  \"country\",\\n  \"free_text\",\\n  \"gender\",\\n...</td>\n",
       "      <td>None</td>\n",
       "      <td>None</td>\n",
       "      <td>women</td>\n",
       "      <td>None</td>\n",
       "      <td>shoes</td>\n",
       "      <td>[\\n  \"designer_slug\",\\n  \"product_type\"\\n]</td>\n",
       "      <td>[\\n  \"product_type\"\\n]</td>\n",
       "      <td>[\\n  \"fendi\",\\n  \"women\",\\n  \"shoes\"\\n]</td>\n",
       "      <td>[\\n  \"fendi\"\\n]</td>\n",
       "      <td>True</td>\n",
       "      <td>False</td>\n",
       "    </tr>\n",
       "  </tbody>\n",
       "</table>\n",
       "<p>677262 rows × 18 columns</p>\n",
       "</div>"
      ],
      "text/plain": [
       "                                  SESSION_ID            EVENT_TIMESTAMP  \\\n",
       "0       952ef0bf-8541-4cd4-92cc-e44d520a536d 2024-02-05 00:04:10.946020   \n",
       "1       e694d04f-e744-4c53-beb4-8371f38bc670 2024-02-04 15:39:36.924916   \n",
       "2       283fb6a5-ca9b-4ad6-a8fd-be0413ef09bb 2024-02-04 20:26:36.783828   \n",
       "3       a35cad5f-3d1b-4092-ab58-9247392c2dc9 2024-02-05 01:05:05.204679   \n",
       "4       e5e8747a-f917-4a23-8962-5a9a5e93064d 2024-02-04 13:25:03.017244   \n",
       "...                                      ...                        ...   \n",
       "677257  3aa02958-c130-4677-97ea-df672eb32a50 2024-02-01 03:30:28.223721   \n",
       "677258  a58bee58-c1e6-4fa3-a18e-d1a1a82dc0f9 2024-02-01 06:33:49.757877   \n",
       "677259  25bf30d1-4a4e-46f4-a5db-620f686d8a86 2024-02-01 05:11:39.073631   \n",
       "677260  b307bb71-f7b3-4133-a688-98ea32d0ba23 2024-02-01 07:04:05.474179   \n",
       "677261  3f3aa318-7529-47e9-a505-a9e9719d05ab 2024-02-01 06:43:48.417968   \n",
       "\n",
       "        USER_AGENT                               VIEW_ID  PAGE_START_INDEX  \\\n",
       "0       mobile-api  b5c372e6-9390-4d3a-8499-168197b0967a                48   \n",
       "1       mobile-api  ab137a9f-4a22-4db0-ac67-2b5f1b236504                 0   \n",
       "2       mobile-api  8de17196-f96c-4954-a0ae-eb6b932ebb87                 0   \n",
       "3       mobile-api  5819f9fd-4035-488d-9e38-2e8c41ef62af               384   \n",
       "4       mobile-api  079a81f9-9722-482b-bbfb-62218bb88b50                24   \n",
       "...            ...                                   ...               ...   \n",
       "677257  mobile-api  150cf5d6-7f68-4ffa-80ed-70221e68aa35                96   \n",
       "677258  mobile-api  c31fc3cf-8cd6-4c10-91c8-4d4953138bca                72   \n",
       "677259  mobile-api  a4ad8b1b-dfdb-4497-a0e5-34cd42aa1659                24   \n",
       "677260  mobile-api  6a021fa2-d4fd-479b-a57a-b8d6db9dcffd                24   \n",
       "677261  mobile-api  33b1c215-99f1-4722-986a-1dfc4c8442bd                24   \n",
       "\n",
       "                                   PRE_FILTERS_PARAMETERS  \\\n",
       "0       {\\n  \"category\": \"sneakers\",\\n  \"country\": \"HR...   \n",
       "1       {\\n  \"country\": \"US\",\\n  \"free_text\": \"michael...   \n",
       "2       {\\n  \"country\": \"TR\",\\n  \"free_text\": \"basketb...   \n",
       "3       {\\n  \"country\": \"GB\",\\n  \"free_text\": \"airmax+...   \n",
       "4       {\\n  \"country\": \"IN\",\\n  \"free_text\": \"feragam...   \n",
       "...                                                   ...   \n",
       "677257  {\\n  \"country\": \"PT\",\\n  \"free_text\": \"givench...   \n",
       "677258  {\\n  \"country\": \"US\",\\n  \"free_text\": \"gucci\",...   \n",
       "677259  {\\n  \"country\": \"RO\",\\n  \"free_text\": \"snekars...   \n",
       "677260  {\\n  \"country\": \"US\",\\n  \"free_text\": \"balmain...   \n",
       "677261  {\\n  \"country\": \"AE\",\\n  \"free_text\": \"fendi\",...   \n",
       "\n",
       "                                          PARAMETERS_KEYS FILTERS_CATEGORY  \\\n",
       "0       [\\n  \"category\",\\n  \"country\",\\n  \"free_text\",...         sneakers   \n",
       "1       [\\n  \"country\",\\n  \"free_text\",\\n  \"gender\",\\n...             None   \n",
       "2       [\\n  \"country\",\\n  \"free_text\",\\n  \"gender\",\\n...             None   \n",
       "3       [\\n  \"country\",\\n  \"free_text\",\\n  \"gender\",\\n...             None   \n",
       "4       [\\n  \"country\",\\n  \"free_text\",\\n  \"gender\",\\n...             None   \n",
       "...                                                   ...              ...   \n",
       "677257  [\\n  \"country\",\\n  \"free_text\",\\n  \"gender\",\\n...             None   \n",
       "677258  [\\n  \"country\",\\n  \"free_text\",\\n  \"gender\",\\n...             None   \n",
       "677259  [\\n  \"country\",\\n  \"free_text\",\\n  \"gender\",\\n...             None   \n",
       "677260  [\\n  \"country\",\\n  \"free_text\",\\n  \"gender\",\\n...             None   \n",
       "677261  [\\n  \"country\",\\n  \"free_text\",\\n  \"gender\",\\n...             None   \n",
       "\n",
       "       FILTERS_DESIGNER_SLUG FILTERS_GENDER FILTERS_SALE FILTERS_PRODUCT_TYPE  \\\n",
       "0                       None          women         None                 None   \n",
       "1                       None          women         None                 None   \n",
       "2                       None            men         None                 None   \n",
       "3                       None            men         None                 None   \n",
       "4                       None            men         None                 None   \n",
       "...                      ...            ...          ...                  ...   \n",
       "677257                  None            men         None                shoes   \n",
       "677258                  None          women         None                 None   \n",
       "677259                  None            men         None                 None   \n",
       "677260                  None          women         None                 bags   \n",
       "677261                  None          women         None                shoes   \n",
       "\n",
       "                                   _TOKEN_ENTITIES          TOKEN_ENTITIES  \\\n",
       "0           [\\n  \"category\",\\n  \"designer_slug\"\\n]      [\\n  \"category\"\\n]   \n",
       "1             [\\n  \"designer_slug\",\\n  \"gender\"\\n]        [\\n  \"gender\"\\n]   \n",
       "2                                [\\n  \"unknown\"\\n]                      []   \n",
       "3                                [\\n  \"unknown\"\\n]                      []   \n",
       "4                                [\\n  \"unknown\"\\n]                      []   \n",
       "...                                            ...                     ...   \n",
       "677257  [\\n  \"designer_slug\",\\n  \"product_type\"\\n]  [\\n  \"product_type\"\\n]   \n",
       "677258        [\\n  \"designer_slug\",\\n  \"gender\"\\n]        [\\n  \"gender\"\\n]   \n",
       "677259            [\\n  \"material\",\\n  \"unknown\"\\n]                      []   \n",
       "677260  [\\n  \"designer_slug\",\\n  \"product_type\"\\n]  [\\n  \"product_type\"\\n]   \n",
       "677261  [\\n  \"designer_slug\",\\n  \"product_type\"\\n]  [\\n  \"product_type\"\\n]   \n",
       "\n",
       "                                             SEARCH_QUERY  \\\n",
       "0       [\\n  \"alexander mcqueen\",\\n  \"women\",\\n  \"snea...   \n",
       "1                      [\\n  \"michael kors\",\\n  \"women\"\\n]   \n",
       "2                          [\\n  \"basketball\",\\n  \"men\"\\n]   \n",
       "3                           [\\n  \"airmax 90\",\\n  \"men\"\\n]   \n",
       "4                            [\\n  \"feragamo\",\\n  \"men\"\\n]   \n",
       "...                                                   ...   \n",
       "677257           [\\n  \"givenchy\",\\n  \"men\",\\n  \"shoes\"\\n]   \n",
       "677258                        [\\n  \"gucci\",\\n  \"women\"\\n]   \n",
       "677259                 [\\n  \"snekars velvet\",\\n  \"men\"\\n]   \n",
       "677260           [\\n  \"balmain\",\\n  \"women\",\\n  \"bags\"\\n]   \n",
       "677261            [\\n  \"fendi\",\\n  \"women\",\\n  \"shoes\"\\n]   \n",
       "\n",
       "                         QUERY_ONLY  DESIGNER_SLUG_ENTITY  UNKOWN_ENTITY  \n",
       "0       [\\n  \"alexander mcqueen\"\\n]                  True          False  \n",
       "1            [\\n  \"michael kors\"\\n]                  True          False  \n",
       "2              [\\n  \"basketball\"\\n]                 False           True  \n",
       "3               [\\n  \"airmax 90\"\\n]                 False           True  \n",
       "4                [\\n  \"feragamo\"\\n]                 False           True  \n",
       "...                             ...                   ...            ...  \n",
       "677257           [\\n  \"givenchy\"\\n]                  True          False  \n",
       "677258              [\\n  \"gucci\"\\n]                  True          False  \n",
       "677259     [\\n  \"snekars velvet\"\\n]                 False           True  \n",
       "677260            [\\n  \"balmain\"\\n]                  True          False  \n",
       "677261              [\\n  \"fendi\"\\n]                  True          False  \n",
       "\n",
       "[677262 rows x 18 columns]"
      ]
     },
     "execution_count": 5,
     "metadata": {},
     "output_type": "execute_result"
    }
   ],
   "source": [
    "q.run()"
   ]
  },
  {
   "cell_type": "code",
   "execution_count": 6,
   "metadata": {},
   "outputs": [
    {
     "ename": "TypeError",
     "evalue": "load() missing 1 required positional argument: 'Loader'",
     "output_type": "error",
     "traceback": [
      "\u001b[0;31m---------------------------------------------------------------------------\u001b[0m",
      "\u001b[0;31mTypeError\u001b[0m                                 Traceback (most recent call last)",
      "\u001b[1;32m/Users/mingham/research/notebooks/test.ipynb Cell 3\u001b[0m line \u001b[0;36m1\n\u001b[0;32m----> <a href='vscode-notebook-cell:/Users/mingham/research/notebooks/test.ipynb#X30sZmlsZQ%3D%3D?line=0'>1</a>\u001b[0m x\u001b[39m=\u001b[39myaml\u001b[39m.\u001b[39;49mload(\u001b[39m'\u001b[39;49m\u001b[39mtest.yaml\u001b[39;49m\u001b[39m'\u001b[39;49m)\n",
      "\u001b[0;31mTypeError\u001b[0m: load() missing 1 required positional argument: 'Loader'"
     ]
    }
   ],
   "source": [
    "x=yaml.load('test.yaml')"
   ]
  },
  {
   "cell_type": "code",
   "execution_count": 14,
   "metadata": {},
   "outputs": [],
   "source": [
    "def read_multiple_block_of_yaml_data(filename):\n",
    "    with open(f'{filename}.yaml','r') as f:\n",
    "        data = yaml.safe_load_all(f)\n",
    "        # print(list(data)) \n",
    "        return list(data)\n"
   ]
  },
  {
   "cell_type": "code",
   "execution_count": 20,
   "metadata": {},
   "outputs": [
    {
     "name": "stdout",
     "output_type": "stream",
     "text": [
      "['some text', 'and another one']\n"
     ]
    }
   ],
   "source": [
    "import re\n",
    "\n",
    "# Example string\n",
    "example_string = \"This is 'some text' between single quotes 'and another one'.\"\n",
    "\n",
    "# Regex pattern\n",
    "pattern = r\"'(.*?)'\"\n",
    "\n",
    "# Extract values between single quotes\n",
    "matches = re.findall(pattern, example_string)\n",
    "\n",
    "# Print the matches\n",
    "print(matches)"
   ]
  },
  {
   "cell_type": "code",
   "execution_count": 22,
   "metadata": {},
   "outputs": [
    {
     "data": {
      "text/plain": [
       "407007.84570176713"
      ]
     },
     "execution_count": 22,
     "metadata": {},
     "output_type": "execute_result"
    }
   ],
   "source": [
    "1707475.1878901105-1300467.3421883434"
   ]
  },
  {
   "cell_type": "code",
   "execution_count": 15,
   "metadata": {},
   "outputs": [],
   "source": [
    "x=read_multiple_block_of_yaml_data('test')"
   ]
  },
  {
   "cell_type": "code",
   "execution_count": 18,
   "metadata": {},
   "outputs": [],
   "source": [
    "y=x[0]"
   ]
  },
  {
   "cell_type": "code",
   "execution_count": 19,
   "metadata": {},
   "outputs": [
    {
     "data": {
      "text/plain": [
       "{'MAIN': [{'table': 'lyst_analytics.nc_components_derived_aggregates_cummulative'},\n",
       "  {'field': 'net_commission',\n",
       "   'children': [{'name': 'GMV',\n",
       "     'children': [{'field': 'AOV',\n",
       "       'formua': \"'gross_commission'/'order_count'\"},\n",
       "      {'field': 'order_count',\n",
       "       'children': [{'field': 'order_count_per_conversion'},\n",
       "        {'field': 'conversion_count',\n",
       "         'name': 'Number of Conversions',\n",
       "         'children': [{'field': 'user_count', 'name': 'Number of Users'},\n",
       "          {'field': 'sessions_per_user',\n",
       "           'formula': \"'session_count'/'user_count'\"},\n",
       "          {'field': 'lead_conversion_rate',\n",
       "           'formula': \"'lead_generation_count'/'session_count'\"},\n",
       "          {'field': 'track_conversion_rate',\n",
       "           'formula': \"'conversion_count'/'lead_generation_count'\"}]}]}]},\n",
       "    {'field': 'retain_rate',\n",
       "     'formula': \"'net_commissionm'/'gross_commission'\"},\n",
       "    {'field': 'conversion_rate',\n",
       "     'name': 'CPA Rate',\n",
       "     'formula': \"'gross_commission'/'GMV'\"}]}]}"
      ]
     },
     "execution_count": 19,
     "metadata": {},
     "output_type": "execute_result"
    }
   ],
   "source": [
    "y"
   ]
  },
  {
   "cell_type": "code",
   "execution_count": 7,
   "metadata": {},
   "outputs": [],
   "source": [
    "pydqt.set_schema('core_wip')\n",
    "q=pydqt.Query('nc_components_derived_aggregates_v2.sql',freq=['WEEK'])"
   ]
  },
  {
   "cell_type": "code",
   "execution_count": 2,
   "metadata": {},
   "outputs": [
    {
     "name": "stdout",
     "output_type": "stream",
     "text": [
      "/Users/mingham/research/workspaces/growth_model/tests/sql\n"
     ]
    },
    {
     "ename": "UndefinedError",
     "evalue": "'aggregates_add_up' is undefined",
     "output_type": "error",
     "traceback": [
      "\u001b[0;31m---------------------------------------------------------------------------\u001b[0m",
      "\u001b[0;31mUndefinedError\u001b[0m                            Traceback (most recent call last)",
      "\u001b[1;32m/Users/mingham/research/notebooks/test.ipynb Cell 4\u001b[0m line \u001b[0;36m1\n\u001b[0;32m----> <a href='vscode-notebook-cell:/Users/mingham/research/notebooks/test.ipynb#X25sZmlsZQ%3D%3D?line=0'>1</a>\u001b[0m test\u001b[39m=\u001b[39mpydqt\u001b[39m.\u001b[39;49mTest(\u001b[39m'\u001b[39;49m\u001b[39mtest_aggregates_add_up.sql\u001b[39;49m\u001b[39m'\u001b[39;49m)\n",
      "File \u001b[0;32m~/research/.venv/lib/python3.11/site-packages/pydqt/pydqt.py:805\u001b[0m, in \u001b[0;36mTest.__init__\u001b[0;34m(self, template)\u001b[0m\n\u001b[1;32m    804\u001b[0m \u001b[39mdef\u001b[39;00m \u001b[39m__init__\u001b[39m(\u001b[39mself\u001b[39m, template\u001b[39m=\u001b[39m\u001b[39m'\u001b[39m\u001b[39m'\u001b[39m):\n\u001b[0;32m--> 805\u001b[0m     \u001b[39msuper\u001b[39;49m()\u001b[39m.\u001b[39;49m\u001b[39m__init__\u001b[39;49m(query\u001b[39m=\u001b[39;49mtemplate)\n\u001b[1;32m    806\u001b[0m     \u001b[39mprint\u001b[39m(template[\u001b[39m-\u001b[39m\u001b[39m4\u001b[39m:])\n\u001b[1;32m    807\u001b[0m     \u001b[39massert\u001b[39;00m template[\u001b[39m-\u001b[39m\u001b[39m4\u001b[39m:]\u001b[39m==\u001b[39m\u001b[39m'\u001b[39m\u001b[39m.sql\u001b[39m\u001b[39m'\u001b[39m, \u001b[39m\"\u001b[39m\u001b[39myou need to input a \u001b[39m\u001b[39m'\u001b[39m\u001b[39m.sql\u001b[39m\u001b[39m'\u001b[39m\u001b[39m template file\u001b[39m\u001b[39m\"\u001b[39m\n",
      "File \u001b[0;32m~/research/.venv/lib/python3.11/site-packages/pydqt/pydqt.py:523\u001b[0m, in \u001b[0;36mQuery.__init__\u001b[0;34m(self, query, cache, **kwargs)\u001b[0m\n\u001b[1;32m    521\u001b[0m \u001b[39mself\u001b[39m\u001b[39m.\u001b[39mcore_attributes \u001b[39m=\u001b[39m [\u001b[39m'\u001b[39m\u001b[39mtemplate\u001b[39m\u001b[39m'\u001b[39m,\u001b[39m'\u001b[39m\u001b[39msql\u001b[39m\u001b[39m'\u001b[39m,\u001b[39m'\u001b[39m\u001b[39mcache\u001b[39m\u001b[39m'\u001b[39m,\u001b[39m'\u001b[39m\u001b[39mdf\u001b[39m\u001b[39m'\u001b[39m,\u001b[39m'\u001b[39m\u001b[39mcore_attributes\u001b[39m\u001b[39m'\u001b[39m,\u001b[39m'\u001b[39m\u001b[39mquery\u001b[39m\u001b[39m'\u001b[39m,\u001b[39m'\u001b[39m\u001b[39mcsv\u001b[39m\u001b[39m'\u001b[39m]\n\u001b[1;32m    522\u001b[0m \u001b[39mself\u001b[39m\u001b[39m.\u001b[39mparams\u001b[39m=\u001b[39mQueryParams(disallowed\u001b[39m=\u001b[39m\u001b[39mself\u001b[39m\u001b[39m.\u001b[39mcore_attributes,\u001b[39m*\u001b[39m\u001b[39m*\u001b[39mkwargs)\n\u001b[0;32m--> 523\u001b[0m is_template,compiled_sql\u001b[39m=\u001b[39m\u001b[39mcompile\u001b[39;49m(\u001b[39mself\u001b[39;49m\u001b[39m.\u001b[39;49mquery, \u001b[39m*\u001b[39;49m\u001b[39m*\u001b[39;49m\u001b[39mself\u001b[39;49m\u001b[39m.\u001b[39;49mparams\u001b[39m.\u001b[39;49m\u001b[39m__dict__\u001b[39;49m)\n\u001b[1;32m    524\u001b[0m \u001b[39mself\u001b[39m\u001b[39m.\u001b[39msql \u001b[39m=\u001b[39m Sql(text\u001b[39m=\u001b[39mcompiled_sql)\n\u001b[1;32m    525\u001b[0m \u001b[39mif\u001b[39;00m is_template:\n",
      "File \u001b[0;32m~/research/.venv/lib/python3.11/site-packages/pydqt/pydqt.py:924\u001b[0m, in \u001b[0;36mcompile\u001b[0;34m(template, *args, **kwargs)\u001b[0m\n\u001b[1;32m    922\u001b[0m \u001b[39melse\u001b[39;00m:\n\u001b[1;32m    923\u001b[0m     template \u001b[39m=\u001b[39m environment\u001b[39m.\u001b[39mget_template(template)\n\u001b[0;32m--> 924\u001b[0m     rendered_str \u001b[39m=\u001b[39m template\u001b[39m.\u001b[39;49mrender(kwargs)\n\u001b[1;32m    925\u001b[0m     pattern \u001b[39m=\u001b[39m \u001b[39m'\u001b[39m\u001b[39m\\'\u001b[39;00m\u001b[39m[A-Za-z0-9_.-\u001b[39m\u001b[39m\\\u001b[39m\u001b[39m/]+\u001b[39m\u001b[39m\\\u001b[39m\u001b[39m.csv\u001b[39m\u001b[39m\\'\u001b[39;00m\u001b[39m'\u001b[39m\n\u001b[1;32m    926\u001b[0m     m\u001b[39m=\u001b[39mre\u001b[39m.\u001b[39mfindall(pattern, rendered_str)\n",
      "File \u001b[0;32m~/research/.venv/lib/python3.11/site-packages/jinja2/environment.py:1301\u001b[0m, in \u001b[0;36mTemplate.render\u001b[0;34m(self, *args, **kwargs)\u001b[0m\n\u001b[1;32m   1299\u001b[0m     \u001b[39mreturn\u001b[39;00m \u001b[39mself\u001b[39m\u001b[39m.\u001b[39menvironment\u001b[39m.\u001b[39mconcat(\u001b[39mself\u001b[39m\u001b[39m.\u001b[39mroot_render_func(ctx))  \u001b[39m# type: ignore\u001b[39;00m\n\u001b[1;32m   1300\u001b[0m \u001b[39mexcept\u001b[39;00m \u001b[39mException\u001b[39;00m:\n\u001b[0;32m-> 1301\u001b[0m     \u001b[39mself\u001b[39;49m\u001b[39m.\u001b[39;49menvironment\u001b[39m.\u001b[39;49mhandle_exception()\n",
      "File \u001b[0;32m~/research/.venv/lib/python3.11/site-packages/jinja2/environment.py:936\u001b[0m, in \u001b[0;36mEnvironment.handle_exception\u001b[0;34m(self, source)\u001b[0m\n\u001b[1;32m    931\u001b[0m \u001b[39m\u001b[39m\u001b[39m\"\"\"Exception handling helper.  This is used internally to either raise\u001b[39;00m\n\u001b[1;32m    932\u001b[0m \u001b[39mrewritten exceptions or return a rendered traceback for the template.\u001b[39;00m\n\u001b[1;32m    933\u001b[0m \u001b[39m\"\"\"\u001b[39;00m\n\u001b[1;32m    934\u001b[0m \u001b[39mfrom\u001b[39;00m \u001b[39m.\u001b[39;00m\u001b[39mdebug\u001b[39;00m \u001b[39mimport\u001b[39;00m rewrite_traceback_stack\n\u001b[0;32m--> 936\u001b[0m \u001b[39mraise\u001b[39;00m rewrite_traceback_stack(source\u001b[39m=\u001b[39msource)\n",
      "File \u001b[0;32m~/research/workspaces/growth_model/tests/sql/test_aggregates_add_up.sql:1\u001b[0m, in \u001b[0;36mtop-level template code\u001b[0;34m()\u001b[0m\n\u001b[0;32m----> 1\u001b[0m {% test aggregates_add_up(metric, metric_type, dimensions, min_test_date, max_query_date, freq) %}\n\u001b[1;32m      2\u001b[0m \n\u001b[1;32m      3\u001b[0m {% set this = ({\n",
      "File \u001b[0;32m~/research/.venv/lib/python3.11/site-packages/jinja2/utils.py:83\u001b[0m, in \u001b[0;36m_PassArg.from_obj\u001b[0;34m(cls, obj)\u001b[0m\n\u001b[1;32m     81\u001b[0m \u001b[39m@classmethod\u001b[39m\n\u001b[1;32m     82\u001b[0m \u001b[39mdef\u001b[39;00m \u001b[39mfrom_obj\u001b[39m(\u001b[39mcls\u001b[39m, obj: F) \u001b[39m-\u001b[39m\u001b[39m>\u001b[39m t\u001b[39m.\u001b[39mOptional[\u001b[39m\"\u001b[39m\u001b[39m_PassArg\u001b[39m\u001b[39m\"\u001b[39m]:\n\u001b[0;32m---> 83\u001b[0m     \u001b[39mif\u001b[39;00m \u001b[39mhasattr\u001b[39m(obj, \u001b[39m\"\u001b[39m\u001b[39mjinja_pass_arg\u001b[39m\u001b[39m\"\u001b[39m):\n\u001b[1;32m     84\u001b[0m         \u001b[39mreturn\u001b[39;00m obj\u001b[39m.\u001b[39mjinja_pass_arg  \u001b[39m# type: ignore\u001b[39;00m\n\u001b[1;32m     86\u001b[0m     \u001b[39mreturn\u001b[39;00m \u001b[39mNone\u001b[39;00m\n",
      "\u001b[0;31mUndefinedError\u001b[0m: 'aggregates_add_up' is undefined"
     ]
    }
   ],
   "source": [
    "test=pydqt.Test('test_aggregates_add_up.sql')"
   ]
  },
  {
   "cell_type": "code",
   "execution_count": 20,
   "metadata": {},
   "outputs": [
    {
     "data": {
      "text/plain": [
       "<_io.TextIOWrapper name='/Users/mingham/research/.venv/lib/python3.11/site-packages/pydqt/pydqt.py' mode='r' encoding='UTF-8'>"
      ]
     },
     "execution_count": 20,
     "metadata": {},
     "output_type": "execute_result"
    }
   ],
   "source": [
    "open('/Users/mingham/research/.venv/lib/python3.11/site-packages/pydqt/pydqt.py')"
   ]
  },
  {
   "cell_type": "code",
   "execution_count": 17,
   "metadata": {},
   "outputs": [
    {
     "data": {
      "text/plain": [
       "\n",
       "SELECT 'WEEK' AS PERIOD_DS_FREQ,\n",
       "       DATE_TRUNC(WEEK, event_timestamp) AS event_ds,\n",
       "       region.major_market_partner major_market_partner,\n",
       "       is_member,\n",
       "       user_type,\n",
       "       CASE\n",
       "           WHEN (session_traffic_source) = 'PLA-CO' THEN 'PLA-CO'\n",
       "           WHEN (session_traffic_source) like 'PLA-EC' THEN 'PLA-EC'\n",
       "           WHEN (session_traffic_source) = 'APP PAID' THEN 'APP PAID'\n",
       "           WHEN (session_traffic_source) = 'DIRECT' THEN 'DIRECT'\n",
       "           WHEN ((session_traffic_source) IN ('ORGANIC',\n",
       "                                              'EMAIL',\n",
       "                                              'SEO',\n",
       "                                              'SELF REFERRER',\n",
       "                                              'SOCIAL',\n",
       "                                              'OTHER SEO',\n",
       "                                              'REFERRAL',\n",
       "                                              'WEB TO APP',\n",
       "                                              'APP INDEXING',\n",
       "                                              'APP DIRECT - APP INDEXING',\n",
       "                                              'PUSH')\n",
       "                 OR (session_traffic_source) IS NULL) THEN 'ORGANIC'\n",
       "           WHEN (session_traffic_source) IN ('PAID',\n",
       "                                             'OTHER PAID',\n",
       "                                             'PAID SOCIAL') THEN 'PAID'\n",
       "           WHEN (session_traffic_source) = 'CSS' THEN 'CSS'\n",
       "           ELSE 'OTHER'\n",
       "       END AS session_traffic_source_grouping,\n",
       "       count(distinct(ultimate_id)) AS user_count,\n",
       "       count(distinct(ultimate_session_id)) AS session_count,\n",
       "       count(distinct(purchase_intent_id)) AS lead_generation_count,\n",
       "       sum(converted_track) AS conversion_count,\n",
       "       sum(order_count) AS order_count,\n",
       "       sum(order_count)/nullif(sum(converted_track), 0) AS order_count_per_conversion,\n",
       "       sum(gross_amount)/nullif(sum(order_count), 0) AS AOV,\n",
       "       sum(gross_commission)/nullif(sum(gross_amount), 0) AS cpa_rate,\n",
       "       sum(net_commission)/nullif(sum(gross_commission), 0) AS retain_rate,\n",
       "       sum(gross_amount) AS GMV,\n",
       "       sum(gross_commission) AS gross_commission,\n",
       "       sum(net_commission) AS net_commission\n",
       "FROM union_touch_points\n",
       "LEFT JOIN lyst_analytics.partner_reporting_major_market region ON user_geoip_country = region.country_code\n",
       "WHERE event_ds>'2023-11-01'\n",
       "  AND event_ds<'2023-12-31'\n",
       "GROUP BY event_ds,\n",
       "         session_traffic_source_grouping,\n",
       "         major_market_partner,\n",
       "         is_member,\n",
       "         user_type\n",
       "UNION ALL\n",
       "SELECT 'MONTH' AS PERIOD_DS_FREQ,\n",
       "       DATE_TRUNC(MONTH, event_timestamp) AS event_ds,\n",
       "       region.major_market_partner major_market_partner,\n",
       "       is_member,\n",
       "       user_type,\n",
       "       CASE\n",
       "           WHEN (session_traffic_source) = 'PLA-CO' THEN 'PLA-CO'\n",
       "           WHEN (session_traffic_source) like 'PLA-EC' THEN 'PLA-EC'\n",
       "           WHEN (session_traffic_source) = 'APP PAID' THEN 'APP PAID'\n",
       "           WHEN (session_traffic_source) = 'DIRECT' THEN 'DIRECT'\n",
       "           WHEN ((session_traffic_source) IN ('ORGANIC',\n",
       "                                              'EMAIL',\n",
       "                                              'SEO',\n",
       "                                              'SELF REFERRER',\n",
       "                                              'SOCIAL',\n",
       "                                              'OTHER SEO',\n",
       "                                              'REFERRAL',\n",
       "                                              'WEB TO APP',\n",
       "                                              'APP INDEXING',\n",
       "                                              'APP DIRECT - APP INDEXING',\n",
       "                                              'PUSH')\n",
       "                 OR (session_traffic_source) IS NULL) THEN 'ORGANIC'\n",
       "           WHEN (session_traffic_source) IN ('PAID',\n",
       "                                             'OTHER PAID',\n",
       "                                             'PAID SOCIAL') THEN 'PAID'\n",
       "           WHEN (session_traffic_source) = 'CSS' THEN 'CSS'\n",
       "           ELSE 'OTHER'\n",
       "       END AS session_traffic_source_grouping,\n",
       "       count(distinct(ultimate_id)) AS user_count,\n",
       "       count(distinct(ultimate_session_id)) AS session_count,\n",
       "       count(distinct(purchase_intent_id)) AS lead_generation_count,\n",
       "       sum(converted_track) AS conversion_count,\n",
       "       sum(order_count) AS order_count,\n",
       "       sum(order_count)/nullif(sum(converted_track), 0) AS order_count_per_conversion,\n",
       "       sum(gross_amount)/nullif(sum(order_count), 0) AS AOV,\n",
       "       sum(gross_commission)/nullif(sum(gross_amount), 0) AS cpa_rate,\n",
       "       sum(net_commission)/nullif(sum(gross_commission), 0) AS retain_rate,\n",
       "       sum(gross_amount) AS GMV,\n",
       "       sum(gross_commission) AS gross_commission,\n",
       "       sum(net_commission) AS net_commission\n",
       "FROM union_touch_points\n",
       "LEFT JOIN lyst_analytics.partner_reporting_major_market region ON user_geoip_country = region.country_code\n",
       "WHERE event_ds>'2023-11-01'\n",
       "  AND event_ds<'2023-12-31'\n",
       "GROUP BY event_ds,\n",
       "         session_traffic_source_grouping,\n",
       "         major_market_partner,\n",
       "         is_member,\n",
       "         user_type\n",
       "UNION ALL\n",
       "SELECT 'QUARTER' AS PERIOD_DS_FREQ,\n",
       "       DATE_TRUNC(QUARTER, event_timestamp) AS event_ds,\n",
       "       region.major_market_partner major_market_partner,\n",
       "       is_member,\n",
       "       user_type,\n",
       "       CASE\n",
       "           WHEN (session_traffic_source) = 'PLA-CO' THEN 'PLA-CO'\n",
       "           WHEN (session_traffic_source) like 'PLA-EC' THEN 'PLA-EC'\n",
       "           WHEN (session_traffic_source) = 'APP PAID' THEN 'APP PAID'\n",
       "           WHEN (session_traffic_source) = 'DIRECT' THEN 'DIRECT'\n",
       "           WHEN ((session_traffic_source) IN ('ORGANIC',\n",
       "                                              'EMAIL',\n",
       "                                              'SEO',\n",
       "                                              'SELF REFERRER',\n",
       "                                              'SOCIAL',\n",
       "                                              'OTHER SEO',\n",
       "                                              'REFERRAL',\n",
       "                                              'WEB TO APP',\n",
       "                                              'APP INDEXING',\n",
       "                                              'APP DIRECT - APP INDEXING',\n",
       "                                              'PUSH')\n",
       "                 OR (session_traffic_source) IS NULL) THEN 'ORGANIC'\n",
       "           WHEN (session_traffic_source) IN ('PAID',\n",
       "                                             'OTHER PAID',\n",
       "                                             'PAID SOCIAL') THEN 'PAID'\n",
       "           WHEN (session_traffic_source) = 'CSS' THEN 'CSS'\n",
       "           ELSE 'OTHER'\n",
       "       END AS session_traffic_source_grouping,\n",
       "       count(distinct(ultimate_id)) AS user_count,\n",
       "       count(distinct(ultimate_session_id)) AS session_count,\n",
       "       count(distinct(purchase_intent_id)) AS lead_generation_count,\n",
       "       sum(converted_track) AS conversion_count,\n",
       "       sum(order_count) AS order_count,\n",
       "       sum(order_count)/nullif(sum(converted_track), 0) AS order_count_per_conversion,\n",
       "       sum(gross_amount)/nullif(sum(order_count), 0) AS AOV,\n",
       "       sum(gross_commission)/nullif(sum(gross_amount), 0) AS cpa_rate,\n",
       "       sum(net_commission)/nullif(sum(gross_commission), 0) AS retain_rate,\n",
       "       sum(gross_amount) AS GMV,\n",
       "       sum(gross_commission) AS gross_commission,\n",
       "       sum(net_commission) AS net_commission\n",
       "FROM union_touch_points\n",
       "LEFT JOIN lyst_analytics.partner_reporting_major_market region ON user_geoip_country = region.country_code\n",
       "WHERE event_ds>'2023-11-01'\n",
       "  AND event_ds<'2023-12-31'\n",
       "GROUP BY event_ds,\n",
       "         session_traffic_source_grouping,\n",
       "         major_market_partner,\n",
       "         is_member,\n",
       "         user_type ;"
      ]
     },
     "execution_count": 17,
     "metadata": {},
     "output_type": "execute_result"
    }
   ],
   "source": [
    "q.sql"
   ]
  }
 ],
 "metadata": {
  "kernelspec": {
   "display_name": ".venv",
   "language": "python",
   "name": "python3"
  },
  "language_info": {
   "codemirror_mode": {
    "name": "ipython",
    "version": 3
   },
   "file_extension": ".py",
   "mimetype": "text/x-python",
   "name": "python",
   "nbconvert_exporter": "python",
   "pygments_lexer": "ipython3",
   "version": "3.11.4"
  }
 },
 "nbformat": 4,
 "nbformat_minor": 2
}
