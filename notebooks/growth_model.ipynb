{
 "cells": [
  {
   "cell_type": "markdown",
   "metadata": {},
   "source": [
    "This notebook investigates ESG with respect to apparel and footwear (listed) companies"
   ]
  },
  {
   "cell_type": "code",
   "execution_count": 8,
   "metadata": {},
   "outputs": [],
   "source": [
    "import numpy as np\n",
    "import altair as alt\n",
    "\n",
    "import pydqt\n",
    "import pandas as pd\n",
    "import os\n",
    "import itertools\n",
    "from importlib import reload\n",
    "import numpy as np\n",
    "\n",
    "# os.sys.path.append('../timeseries') \n",
    "# from tsx import sum_of_nchoosek as snck\n",
    "# import tsx as tsx\n",
    "\n",
    "pydqt.set_workspace(root='/Users/mingham/research/workspaces/',name='growth_model')"
   ]
  },
  {
   "cell_type": "code",
   "execution_count": null,
   "metadata": {},
   "outputs": [],
   "source": []
  }
 ],
 "metadata": {
  "kernelspec": {
   "display_name": ".venv",
   "language": "python",
   "name": "python3"
  },
  "language_info": {
   "codemirror_mode": {
    "name": "ipython",
    "version": 3
   },
   "file_extension": ".py",
   "mimetype": "text/x-python",
   "name": "python",
   "nbconvert_exporter": "python",
   "pygments_lexer": "ipython3",
   "version": "3.11.4"
  }
 },
 "nbformat": 4,
 "nbformat_minor": 2
}
